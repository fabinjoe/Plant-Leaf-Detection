{
  "nbformat": 4,
  "nbformat_minor": 0,
  "metadata": {
    "colab": {
      "name": "Resize.ipynb",
      "provenance": []
    },
    "kernelspec": {
      "name": "python3",
      "display_name": "Python 3"
    },
    "language_info": {
      "name": "python"
    }
  },
  "cells": [
    {
      "cell_type": "code",
      "source": [
        "from PIL import Image\n",
        "import glob\n",
        "import os\n"
      ],
      "metadata": {
        "id": "CzRKrsKg3wkf"
      },
      "execution_count": null,
      "outputs": []
    },
    {
      "cell_type": "code",
      "source": [
        "# link to your Google Drive\n",
        "from google.colab import drive\n",
        "drive.mount('/content/drive')"
      ],
      "metadata": {
        "colab": {
          "base_uri": "https://localhost:8080/"
        },
        "id": "Ns99omoj9Re1",
        "outputId": "2ce1ef95-902a-41f0-9a87-813852be4898"
      },
      "execution_count": null,
      "outputs": [
        {
          "output_type": "stream",
          "name": "stdout",
          "text": [
            "Mounted at /content/drive\n"
          ]
        }
      ]
    },
    {
      "cell_type": "code",
      "source": [
        "# new folder path (may need to alter for Windows OS)\n",
        "# change path to your path\n",
        "ORI_PATH = '/content/drive/MyDrive/APS360: Project/Function test/Cherry_Healthy'\n",
        "NEW_SIZE = 224\n",
        "PATH = '/content/drive/MyDrive/APS360: Project/Function test/Cherry_Healthy-RESIZED-DIR' #the path where to save resized images\n"
      ],
      "metadata": {
        "id": "c2BFfkMd46sa"
      },
      "execution_count": null,
      "outputs": []
    },
    {
      "cell_type": "code",
      "source": [
        "# loop over existing images and resize\n",
        "# change path to your path\n",
        "for filename in glob.glob(ORI_PATH+'//*.JPG'): #path of raw images with is subdirectory\n",
        "    img = Image.open(filename).resize((NEW_SIZE,NEW_SIZE))\n",
        "    \n",
        "    # get the original location and find its subdir\n",
        "    loc = os.path.split(filename)[0]\n",
        "    print(loc)\n",
        "    subdir = loc.split('/')[1]\n",
        "    \n",
        "    # assembly with its full new directory\n",
        "    fullnew_subdir = PATH+\"/\"+subdir\n",
        "    name = os.path.split(filename)[1]\n",
        "    \n",
        "    # check if the subdir is already created or not\n",
        "    if not os.path.exists(fullnew_subdir):\n",
        "        os.makedirs(fullnew_subdir)\n",
        "    \n",
        "    # save resized images to new folder with existing filename\n",
        "    img.save('{}{}{}'.format(fullnew_subdir,'/',name))"
      ],
      "metadata": {
        "id": "zUcY6ygb47-S",
        "colab": {
          "base_uri": "https://localhost:8080/"
        },
        "outputId": "7f67e52a-2d70-40e5-bba1-af26cc5df18c"
      },
      "execution_count": null,
      "outputs": [
        {
          "output_type": "stream",
          "name": "stdout",
          "text": [
            "/content/drive/MyDrive/APS360: Project/Function test/Cherry_Healthy\n",
            "/content/drive/MyDrive/APS360: Project/Function test/Cherry_Healthy\n",
            "/content/drive/MyDrive/APS360: Project/Function test/Cherry_Healthy\n",
            "/content/drive/MyDrive/APS360: Project/Function test/Cherry_Healthy\n",
            "/content/drive/MyDrive/APS360: Project/Function test/Cherry_Healthy\n",
            "/content/drive/MyDrive/APS360: Project/Function test/Cherry_Healthy\n"
          ]
        }
      ]
    }
  ]
}