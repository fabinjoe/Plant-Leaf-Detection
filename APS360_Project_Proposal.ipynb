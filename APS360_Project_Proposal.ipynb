{
  "cells": [
    {
      "cell_type": "markdown",
      "metadata": {
        "id": "W_4SbOKdAhtq"
      },
      "source": [
        "#**Automated Plant Leaf Disease Detection (APLDD)**\n",
        "Project Group 25 Members:\n",
        "*   Fabin Joe: 1005889709\n",
        "*   Kshitij Bhardwaj:\n",
        "*   Rahul Chopra:\n",
        "*   Vishal Radhakrishnan:\n",
        "\n",
        "Neural Network to analyze images of a plant leaf to identify various common diseases. Our project is indented to be used in the **Agricultural Sector** to result in early detection of diseases."
      ]
    },
    {
      "cell_type": "markdown",
      "metadata": {
        "id": "XpRAUUgkFGHe"
      },
      "source": [
        "#Some Coding Guidelines so our code seems uniform\n",
        "Class Definaitions: class **HappyPerson**(): \n",
        "\n",
        "Function Definations: def **makePersonHappy**():\n",
        "\n",
        "Variable Definations: **measure_happiness** = 0\n"
      ]
    },
    {
      "cell_type": "code",
      "execution_count": 1,
      "metadata": {},
      "outputs": [],
      "source": [
        "# All the import stuff\n",
        "import numpy as np\n",
        "import matplotlib.pyplot as plt\n",
        "import time\n",
        "import torch\n",
        "import torch.nn as nn\n",
        "import torch.nn.functional as F\n",
        "import torch.optim as optim\n",
        "import torchvision\n",
        "from torch.utils.data.sampler import SubsetRandomSampler\n",
        "import torchvision.transforms as transforms\n",
        "import os\n",
        "import shutil\n",
        "import pandas as pd"
      ]
    },
    {
      "cell_type": "code",
      "execution_count": 47,
      "metadata": {},
      "outputs": [],
      "source": [
        "IMAGE_RESOLUTION = (244, 244)\n",
        "TOTAL_PIXELS = 256 * 256 * 3\n",
        "PRIMARY_DATASET_PATH = \"Dataset\"\n",
        "TRAIN_DATASET_PATH = \"Train_Folder\"\n",
        "VAL_DATASET_PATH = \"Val_Folder\"\n",
        "TEST_DATASET_PATH = \"Test_Folder\"\n",
        "RESNET_FEAUTURES_BASE_PATH =  \"Resnet_Features\"\n",
        "TRAIN_VAL_TEST_SPLIT = (0.7,0.15,0.15)\n",
        "MAX_IMAGES_PER_CLASS = 1000\n",
        "PRACTICE_PRIMARY_DATASET_PATH = \"TestDataset\"\n"
      ]
    },
    {
      "cell_type": "markdown",
      "metadata": {},
      "source": [
        "# Data Cleaning"
      ]
    },
    {
      "cell_type": "code",
      "execution_count": 10,
      "metadata": {},
      "outputs": [],
      "source": [
        "# Function to organize imgs into directory\n",
        "# - Fabin\n",
        "def changeImgDirectory(old_directory, new_directory):\n",
        "    if not os.path.exists(new_directory):\n",
        "        os.mkdir( new_directory )\n",
        "\n",
        "    for sub_direcotry in os.listdir(old_directory):\n",
        "        shutil.move( old_directory + \"\\\\\" + sub_direcotry, new_directory )\n",
        "\n",
        "    print( f\"Copied Directory {old_directory} to {new_directory}\" )\n",
        "\n",
        "def unsqueezeImgDirectory(path, directory):\n",
        "    for sub_directory in os.listdir(path + \"\\\\\" + directory):\n",
        "        new_sub_directory = sub_directory.title()\n",
        "        new_sub_directory = sub_directory.replace( \" \", \"\" )\n",
        "        new_sub_directory = directory + \"_\" + new_sub_directory\n",
        "\n",
        "        new_directory = path + \"\\\\\" + new_sub_directory\n",
        "        shutil.move(path + \"\\\\\" + directory + \"\\\\\" + sub_directory, new_directory)\n",
        "        os.rmdir(path + \"\\\\\" + directory)\n",
        "    print( f\"Unsqueezed Directory {directory}\" )\n",
        "\n",
        "def createDirectoryFromCSV(path, directory, path_to_csv):\n",
        "    data = pd.read_excel(path_to_csv)\n",
        "\n",
        "    category_to_label = {}\n",
        "    for index in range(len(data)):\n",
        "        entry = data.iloc[index]\n",
        "\n",
        "        img_name = entry.iloc[0]\n",
        "        category = entry.iloc[1]\n",
        "\n",
        "        old_img_path = path + \"\\\\\" + directory + \"\\\\\" + img_name\n",
        "        \n",
        "        if category not in category_to_label:\n",
        "            label = category.replace(\"_\", \" \")\n",
        "            label = label.title()\n",
        "            label = label.replace(\" \", \"\")\n",
        "            \n",
        "            category_to_label[category] = label\n",
        "            new_img_path = path + \"\\\\\" + label\n",
        "\n",
        "            os.mkdir(new_img_path)\n",
        "        \n",
        "        new_img_path = path + \"\\\\\" + category_to_label[category] + \"\\\\\" + img_name\n",
        "\n",
        "        shutil.move( old_img_path, new_img_path )\n",
        "    print( \"Images segmented into directories\" )\n",
        "\n",
        "def modifyImageName(dataset_path):\n",
        "    for label in os.listdir(dataset_path):\n",
        "        label_path = dataset_path + \"\\\\\" + label\n",
        "        count = 1\n",
        "        for img_name in os.listdir(label_path):\n",
        "            img_path = label_path + \"\\\\\" + img_name\n",
        "            new_img_path = label_path + \"\\\\\" + f\"{label}_{count}.jpg\"\n",
        "            count += 1\n",
        "            os.rename( img_path, new_img_path )\n",
        "    print(\"Images are renamed to the readable names\")\n",
        "    \n"
      ]
    },
    {
      "cell_type": "code",
      "execution_count": 9,
      "metadata": {},
      "outputs": [
        {
          "name": "stdout",
          "output_type": "stream",
          "text": [
            "Copied Directory Citrus Plant Dataset\\Leaves to Dataset\\Citrus\n",
            "Copied Directory Coffee Plant Dataset\\Photos to Dataset\\Coffee\n",
            "Copied Directory Pear Dataset\\Leaves to Dataset\\Pear\n",
            "Copied Directory plantvillage dataset\\color to Dataset\n"
          ]
        }
      ],
      "source": [
        "os.mkdir(r\"Dataset\")\n",
        "changeImgDirectory(r\"Citrus Plant Dataset\\Leaves\", r\"Dataset\\Citrus\")\n",
        "changeImgDirectory(r\"Coffee Plant Dataset\\Photos\", r\"Dataset\\Coffee\")\n",
        "changeImgDirectory(r\"Pear Dataset\\Leaves\", r\"Dataset\\Pear\")\n",
        "changeImgDirectory(r\"plantvillage dataset\\color\", r\"Dataset\")"
      ]
    },
    {
      "cell_type": "code",
      "execution_count": null,
      "metadata": {},
      "outputs": [
        {
          "name": "stdout",
          "output_type": "stream",
          "text": [
            "Unsqueezed Directory Citrus\n",
            "Unsqueezed Directory Pear\n"
          ]
        }
      ],
      "source": [
        "unsqueezeImgDirectory(r\"Dataset\", r\"Citrus\")\n",
        "unsqueezeImgDirectory(r\"Dataset\", r\"Pear\")"
      ]
    },
    {
      "cell_type": "code",
      "execution_count": null,
      "metadata": {},
      "outputs": [
        {
          "name": "stdout",
          "output_type": "stream",
          "text": [
            "Images segmented into directories\n"
          ]
        }
      ],
      "source": [
        "PATH = r\"Dataset\"\n",
        "directory = r\"Coffee\"\n",
        "path_to_csv = r\"Coffee Plant Dataset\\Annotations\\RoCoLE-classes.xlsx\"\n",
        "createDirectoryFromCSV(PATH, directory, path_to_csv)"
      ]
    },
    {
      "cell_type": "code",
      "execution_count": null,
      "metadata": {},
      "outputs": [
        {
          "name": "stdout",
          "output_type": "stream",
          "text": [
            "Images are renamed to the readable names\n"
          ]
        }
      ],
      "source": [
        "PATH = r\"Dataset\"\n",
        "modifyImageName(PATH)"
      ]
    },
    {
      "cell_type": "code",
      "execution_count": 11,
      "metadata": {},
      "outputs": [],
      "source": [
        "# Function to Create the csv file\n",
        "# - Fabin\n",
        "\n",
        "def generateCSV(dataset_path):\n",
        "\n",
        "    d = {'Image_Path': [], 'Label': [], 'Plant': [], 'Disease': [] }\n",
        "    data = pd.DataFrame(data=d)\n",
        "\n",
        "    for label in os.listdir(dataset_path):\n",
        "        label_path = dataset_path + \"\\\\\" + label\n",
        "        for img_name in os.listdir(label_path):\n",
        "            img_path = label_path + \"\\\\\" + img_name\n",
        "            data = data.append( {'Image_Path': img_path, 'Label': label, 'Plant': \"\", 'Disease': \"\" }, ignore_index = True )            \n",
        "        print( f\"Label {label} is added to the CSV \" )\n",
        "    \n",
        "    dataset_csv_path = 'test_dataset_csv.csv'\n",
        "    data.to_csv(dataset_csv_path, index=False)\n",
        "    print( f\"CSV file is generated and stored at {dataset_csv_path}\" )\n",
        "\n",
        "    return dataset_csv_path\n"
      ]
    },
    {
      "cell_type": "code",
      "execution_count": 83,
      "metadata": {},
      "outputs": [
        {
          "name": "stdout",
          "output_type": "stream",
          "text": [
            "Label Apple_AppleScab is added to the CSV \n",
            "Label Apple_BlackRot is added to the CSV \n",
            "Label Apple_CedarAppleRust is added to the CSV \n",
            "Label Apple_Healthy is added to the CSV \n",
            "Label Blueberry_Healthy is added to the CSV \n",
            "Label Cherry_Healthy is added to the CSV \n",
            "Label Cherry_PowderyMildew is added to the CSV \n",
            "Label Citrus_BlackSpot is added to the CSV \n",
            "Label Citrus_Canker is added to the CSV \n",
            "Label Citrus_Greening is added to the CSV \n",
            "Label Citrus_Healthy is added to the CSV \n",
            "Label Citrus_Melanose is added to the CSV \n",
            "Label Coffee_Healthy is added to the CSV \n",
            "Label Coffee_RedSpiderMite is added to the CSV \n",
            "Label Coffee_RustLevel1 is added to the CSV \n",
            "Label Coffee_RustLevel2 is added to the CSV \n",
            "Label Coffee_RustLevel3 is added to the CSV \n",
            "Label Coffee_RustLevel4 is added to the CSV \n",
            "Label Corn_CercosporaLeafSpot is added to the CSV \n",
            "Label Corn_CommonRust is added to the CSV \n",
            "Label Corn_Healthy is added to the CSV \n",
            "Label Corn_NorthernLeafBlight is added to the CSV \n",
            "Label Grape_BlackRot is added to the CSV \n",
            "Label Grape_Esca is added to the CSV \n",
            "Label Grape_Healthy is added to the CSV \n",
            "Label Grape_LeafBlight is added to the CSV \n",
            "Label Orange_Haunglongbing is added to the CSV \n",
            "Label Peach_BacterialSpot is added to the CSV \n",
            "Label Peach_Healthy is added to the CSV \n",
            "Label Pear_Curl is added to the CSV \n",
            "Label Pear_Healthy is added to the CSV \n",
            "Label Pear_Slug is added to the CSV \n",
            "Label Pear_Spot is added to the CSV \n",
            "Label PepperBell_BacterialSpot is added to the CSV \n",
            "Label PepperBell_Healthy is added to the CSV \n",
            "Label Potato_EarlyBlight is added to the CSV \n",
            "Label Potato_Healthy is added to the CSV \n",
            "Label Potato_LateBlight is added to the CSV \n",
            "Label Raspberry_Healthy is added to the CSV \n",
            "Label Soybean_Healthy is added to the CSV \n",
            "Label Squash_PowderyMildew is added to the CSV \n",
            "Label Strawberry_Healthy is added to the CSV \n",
            "Label Strawberry_LeafScorch is added to the CSV \n",
            "Label Tomato_BacterialSpot is added to the CSV \n",
            "Label Tomato_EarlyBlight is added to the CSV \n",
            "Label Tomato_Healthy is added to the CSV \n",
            "Label Tomato_LateBlight is added to the CSV \n",
            "Label Tomato_LeafMold is added to the CSV \n",
            "Label Tomato_SeptoriaLeafSpot is added to the CSV \n",
            "Label Tomato_SpiderMites is added to the CSV \n",
            "Label Tomato_TargetSpot is added to the CSV \n",
            "Label Tomato_TomatoMosaicVirus is added to the CSV \n",
            "Label Tomato_TomatoYellowLeafCurlVirus is added to the CSV \n",
            "CSV file is generated and stored at test_dataset_csv.csv\n"
          ]
        }
      ],
      "source": [
        "dataset_path = r\"Dataset\"\n",
        "dataset_csv_path = generateCSV(dataset_path)"
      ]
    },
    {
      "cell_type": "code",
      "execution_count": 6,
      "metadata": {},
      "outputs": [],
      "source": [
        "# Function to relable and fill csv file\n",
        "# - Rahul\n",
        "from PIL import Image, ImageEnhance\n",
        "import random\n",
        "\n",
        "def augmentation(img):\n",
        "  if img is None:\n",
        "    return None\n",
        "\n",
        "  a = random.randint(1, 4)\n",
        "  if a == 1:\n",
        "    transform = transforms.Compose([transforms.GaussianBlur(kernel_size=21)])\n",
        "    img = transform(img)\n",
        "  elif a == 2:\n",
        "    transform = transforms.Compose([transforms.RandomHorizontalFlip(p=0.5)])\n",
        "    img = transform(img)\n",
        "  elif a == 3:\n",
        "    img2 = ImageEnhance.Brightness(img)\n",
        "    img = img2.enhance(1.5)\n",
        "  else:\n",
        "    img2 = ImageEnhance.Brightness(img)\n",
        "    img = img2.enhance(0.6666)\n",
        "\n",
        "  return img"
      ]
    },
    {
      "cell_type": "code",
      "execution_count": 5,
      "metadata": {},
      "outputs": [],
      "source": [
        "def expand2square(pil_img, background_color):\n",
        "    width, height = pil_img.size\n",
        "    if width == height:\n",
        "        return pil_img\n",
        "    elif width > height:\n",
        "        result = Image.new(pil_img.mode, (width, width), background_color)\n",
        "        result.paste(pil_img, (0, (width - height) // 2))\n",
        "        return result\n",
        "    result = Image.new(pil_img.mode, (height, height), background_color)\n",
        "    result.paste(pil_img, ((height - width) // 2, 0))\n",
        "    return result\n",
        "\n",
        "def resize_img(img):\n",
        "    if img is None:\n",
        "        return None\n",
        "    \n",
        "    img = expand2square(img, (0,0,0))\n",
        "    return img.resize( IMAGE_RESOLUTION )\n"
      ]
    },
    {
      "cell_type": "code",
      "execution_count": 48,
      "metadata": {},
      "outputs": [],
      "source": [
        "\n",
        "NEW_DATASET_PATH = \"Cleaned_Dataset\"\n",
        "def clean_data(resize: callable, augmentation: callable):\n",
        "    if os.path.exists(NEW_DATASET_PATH):\n",
        "        return\n",
        "    os.mkdir(NEW_DATASET_PATH)\n",
        "    discarded_labels = []\n",
        "\n",
        "    # Loop through all the classes\n",
        "    for classes in os.listdir(PRIMARY_DATASET_PATH):\n",
        "        # print(classes)\n",
        "        class_path = os.path.join(PRIMARY_DATASET_PATH, classes)\n",
        "        img_paths = os.listdir(class_path)\n",
        "        \n",
        "        # Discard uneccessary classes\n",
        "        num_images = len(img_paths)\n",
        "        if num_images < 0.65 * MAX_IMAGES_PER_CLASS:\n",
        "            discarded_labels.append( classes )\n",
        "            continue\n",
        "        \n",
        "        new_class_path = os.path.join(NEW_DATASET_PATH, classes)\n",
        "        os.mkdir(new_class_path)\n",
        "\n",
        "        # Loop thorugh all the individual images\n",
        "        count = 0\n",
        "        for img_path in img_paths:\n",
        "            img = Image.open( os.path.join(class_path, img_path) )\n",
        "\n",
        "            img = resize(img)\n",
        "            try:\n",
        "                img.save( os.path.join(new_class_path, img_path) )\n",
        "            except:\n",
        "                print(f\"Error in transfering {img_path}\")\n",
        "                continue\n",
        "            count += 1        \n",
        "            if count >= MAX_IMAGES_PER_CLASS:\n",
        "                break\n",
        "\n",
        "            if num_images < MAX_IMAGES_PER_CLASS:\n",
        "                img = augmentation(img)\n",
        "                img.save( os.path.join(new_class_path, \"_Augmented_\"+img_path) )\n",
        "                \n",
        "                num_images += 1\n",
        "            \n",
        "        if count != MAX_IMAGES_PER_CLASS and num_images != MAX_IMAGES_PER_CLASS:\n",
        "            print(\"SOMETHING IS WRONG\")\n",
        "        else:\n",
        "            print(f\"{classes} is all good.\")\n",
        "\n",
        "    return discarded_labels"
      ]
    },
    {
      "cell_type": "code",
      "execution_count": 49,
      "metadata": {},
      "outputs": [
        {
          "name": "stdout",
          "output_type": "stream",
          "text": [
            "Apple_Healthy is all good.\n",
            "Blueberry_Healthy is all good.\n",
            "Cherry_Healthy is all good.\n",
            "Cherry_PowderyMildew is all good.\n",
            "Coffee_Healthy is all good.\n",
            "Corn_CommonRust is all good.\n",
            "Corn_Healthy is all good.\n",
            "Corn_NorthernLeafBlight is all good.\n",
            "Grape_BlackRot is all good.\n",
            "Grape_Esca is all good.\n",
            "Grape_LeafBlight is all good.\n",
            "Orange_Haunglongbing is all good.\n",
            "Peach_BacterialSpot is all good.\n",
            "PepperBell_BacterialSpot is all good.\n",
            "Error in transfering PepperBell_Healthy_1217.jpg\n",
            "PepperBell_Healthy is all good.\n",
            "Potato_EarlyBlight is all good.\n",
            "Potato_LateBlight is all good.\n",
            "Soybean_Healthy is all good.\n",
            "Squash_PowderyMildew is all good.\n",
            "Strawberry_LeafScorch is all good.\n",
            "Tomato_BacterialSpot is all good.\n",
            "Tomato_EarlyBlight is all good.\n",
            "Tomato_Healthy is all good.\n",
            "Tomato_LateBlight is all good.\n",
            "Tomato_LeafMold is all good.\n",
            "Tomato_SeptoriaLeafSpot is all good.\n",
            "Tomato_SpiderMites is all good.\n",
            "Tomato_TargetSpot is all good.\n",
            "Tomato_TomatoYellowLeafCurlVirus is all good.\n"
          ]
        }
      ],
      "source": [
        "x = clean_data(resize_img, augmentation)"
      ]
    },
    {
      "cell_type": "code",
      "execution_count": 52,
      "metadata": {},
      "outputs": [],
      "source": [
        "# Check to ensure each class has equivalant number of data entries.\n",
        "for classes in os.listdir(NEW_DATASET_PATH):\n",
        "    class_path = os.path.join(NEW_DATASET_PATH, classes)\n",
        "    img_paths = os.listdir(class_path)\n",
        "    num_images = len(img_paths)\n",
        "    if num_images != MAX_IMAGES_PER_CLASS:\n",
        "        print(f\"{class_path} : {num_images}\")"
      ]
    },
    {
      "cell_type": "code",
      "execution_count": 53,
      "metadata": {},
      "outputs": [],
      "source": [
        "# Function to cause a train val test split\n",
        "# - Kshitij\n",
        "import random\n",
        "\n",
        "def splitData(directory):\n",
        "\n",
        "    # train_path = os.path.join(directory, train_directory)\n",
        "    if not os.path.exists( TRAIN_DATASET_PATH ):\n",
        "        os.mkdir( TRAIN_DATASET_PATH )\n",
        "\n",
        "    # val_path = os.path.join(directory, val_directory)\n",
        "    if not os.path.exists( VAL_DATASET_PATH ):\n",
        "        os.mkdir( VAL_DATASET_PATH )\n",
        "\n",
        "    # test_path = os.path.join(directory, test_directory)\n",
        "    if not os.path.exists( TEST_DATASET_PATH ):\n",
        "        os.mkdir( TEST_DATASET_PATH )\n",
        "\n",
        "    for folder in os.listdir( directory ):\n",
        "        current_folder = os.path.join(directory, folder)\n",
        "        data = os.listdir(current_folder)\n",
        "\n",
        "        split_1 = int(TRAIN_VAL_TEST_SPLIT[2] * MAX_IMAGES_PER_CLASS) \n",
        "        split_2 = int((TRAIN_VAL_TEST_SPLIT[1] + TRAIN_VAL_TEST_SPLIT[2]) * MAX_IMAGES_PER_CLASS)\n",
        "        \n",
        "        train_filenames = data[split_2:]\n",
        "        val_filenames = data[split_1:split_2]\n",
        "        test_filenames = data[:split_1]\n",
        "\n",
        "        random.shuffle( train_filenames )\n",
        "        random.shuffle( val_filenames )\n",
        "        random.shuffle( test_filenames )\n",
        "\n",
        "        train_class_folder = os.path.join(TRAIN_DATASET_PATH, folder)\n",
        "        val_class_folder = os.path.join(VAL_DATASET_PATH, folder)\n",
        "        test_class_folder = os.path.join(TEST_DATASET_PATH, folder)\n",
        "        \n",
        "        os.mkdir(train_class_folder)\n",
        "        os.mkdir(val_class_folder)\n",
        "        os.mkdir(test_class_folder)\n",
        "        for i in train_filenames:\n",
        "            shutil.copy( os.path.join(current_folder, i), train_class_folder)\n",
        "        for j in val_filenames:\n",
        "            shutil.copy( os.path.join(current_folder, j), val_class_folder)\n",
        "        for k in test_filenames:\n",
        "            shutil.copy( os.path.join(current_folder, k), test_class_folder)\n",
        "    \n",
        "        print(f\"{folder}: Train-Val-Test Split Completed\")\n",
        "    print(\"Train-Val-Test Split Completed\")\n",
        "    "
      ]
    },
    {
      "cell_type": "code",
      "execution_count": 198,
      "metadata": {},
      "outputs": [
        {
          "name": "stdout",
          "output_type": "stream",
          "text": [
            "Cherry_Healthy: Train-Val-Test Split Completed\n",
            "Cherry_PowderyMildew: Train-Val-Test Split Completed\n",
            "Corn_CommonRust: Train-Val-Test Split Completed\n",
            "Corn_Healthy: Train-Val-Test Split Completed\n",
            "Corn_NorthernLeafBlight: Train-Val-Test Split Completed\n",
            "Grape_BlackRot: Train-Val-Test Split Completed\n",
            "Grape_Esca: Train-Val-Test Split Completed\n",
            "Grape_LeafBlight: Train-Val-Test Split Completed\n",
            "PepperBell_BacterialSpot: Train-Val-Test Split Completed\n",
            "PepperBell_Healthy: Train-Val-Test Split Completed\n",
            "Potato_EarlyBlight: Train-Val-Test Split Completed\n",
            "Potato_LateBlight: Train-Val-Test Split Completed\n",
            "Squash_PowderyMildew: Train-Val-Test Split Completed\n",
            "Strawberry_LeafScorch: Train-Val-Test Split Completed\n",
            "Tomato_BacterialSpot: Train-Val-Test Split Completed\n",
            "Tomato_Healthy: Train-Val-Test Split Completed\n",
            "Tomato_LateBlight: Train-Val-Test Split Completed\n",
            "Tomato_LeafMold: Train-Val-Test Split Completed\n",
            "Tomato_SpiderMites: Train-Val-Test Split Completed\n",
            "Tomato_TomatoYellowLeafCurlVirus: Train-Val-Test Split Completed\n",
            "Train-Val-Test Split Completed\n"
          ]
        }
      ],
      "source": [
        "NEW_DATASET_PATH = \"New_Dataset\"\n",
        "splitData(NEW_DATASET_PATH)"
      ]
    },
    {
      "cell_type": "code",
      "execution_count": null,
      "metadata": {},
      "outputs": [],
      "source": [
        "# Function to segment images - optional maybe we can do this later."
      ]
    },
    {
      "cell_type": "markdown",
      "metadata": {},
      "source": [
        "# Training Functions"
      ]
    },
    {
      "cell_type": "code",
      "execution_count": 242,
      "metadata": {},
      "outputs": [],
      "source": [
        "# Use the ImageFolder to get the datasets\n",
        "train_folder = torchvision.datasets.ImageFolder(\"Train_Folder\", transform=transforms.ToTensor())\n",
        "val_folder = torchvision.datasets.ImageFolder(\"Val_Folder\", transform=transforms.ToTensor())\n",
        "test_folder = torchvision.datasets.ImageFolder(\"Test_Folder\", transform=transforms.ToTensor())"
      ]
    },
    {
      "cell_type": "code",
      "execution_count": 243,
      "metadata": {},
      "outputs": [],
      "source": [
        "def get_model_name(name, batch_size, learning_rate, epoch):\n",
        "    return f\"{name}_bs{batch_size}_lr{learning_rate}_{epoch}\""
      ]
    },
    {
      "cell_type": "code",
      "execution_count": 244,
      "metadata": {},
      "outputs": [],
      "source": [
        "def get_accuracy(model, data, batch_size):\n",
        "\n",
        "    correct = 0\n",
        "    total = 0\n",
        "    for imgs, labels in torch.utils.data.DataLoader(data, batch_size=batch_size, shuffle=True):\n",
        "         \n",
        "        #############################################\n",
        "        #To Enable GPU Usage\n",
        "        if use_cuda and torch.cuda.is_available():\n",
        "          imgs = imgs.cuda()\n",
        "          labels = labels.cuda()\n",
        "        #############################################\n",
        "        \n",
        "        output = model(imgs)\n",
        "        \n",
        "        #select index with maximum prediction score\n",
        "        pred = output.max(1, keepdim=True)[1]\n",
        "        correct += pred.eq(labels.view_as(pred)).sum().item()\n",
        "        total += imgs.shape[0]\n",
        "    return correct / total\n"
      ]
    },
    {
      "cell_type": "code",
      "execution_count": 271,
      "metadata": {},
      "outputs": [],
      "source": [
        "def train(model, train, valid, batch_size=64, learning_rate = 0.01, num_epochs=1):\n",
        "    torch.manual_seed(50)\n",
        "    train_loader = torch.utils.data.DataLoader(train, batch_size=batch_size, shuffle=True)\n",
        "    val_loader = torch.utils.data.DataLoader(valid, batch_size=batch_size, shuffle=True)\n",
        "    criterion = nn.CrossEntropyLoss()\n",
        "    optimizer = optim.SGD(model.parameters(), lr=learning_rate, momentum=0.92)\n",
        "\n",
        "    iters, losses, train_acc, val_acc = [], [], [], []\n",
        "\n",
        "    # training\n",
        "    start_time = time.time()\n",
        "    for epoch in range(num_epochs):\n",
        "        for imgs, labels in iter(train_loader):\n",
        "            #############################################\n",
        "            #To Enable GPU Usage\n",
        "            if use_cuda and torch.cuda.is_available():\n",
        "              imgs = imgs.cuda()\n",
        "              labels = labels.cuda()\n",
        "            #############################################\n",
        "              \n",
        "            out = model(imgs)             # forward pass\n",
        "            # print( f\" {out.shape} & {labels.shape} & {out.dtype} & {label.dtype} \" )\n",
        "            loss = criterion(out, labels) # compute the total loss\n",
        "            loss.backward()               # backward pass (compute parameter updates)\n",
        "            optimizer.step()              # make the updates for each parameter\n",
        "            optimizer.zero_grad()         # a clean up step for PyTorch\n",
        "\n",
        "        # save the current training information\n",
        "        iters.append(epoch)\n",
        "        losses.append(float(loss)/batch_size)             # compute *average* loss\n",
        "        train_acc.append(get_accuracy(model, train, batch_size)) # compute training accuracy \n",
        "        val_acc.append(get_accuracy(model, valid, batch_size))  # compute validation accuracy\n",
        "        print((f\"Epoch {epoch + 1}: Train acc: {train_acc[epoch]} | Validation acc: {val_acc[epoch]}\"))\n",
        "        # Saving the current model (checkpoint) to a file\n",
        "        model_path = get_model_name(model.name, batch_size, learning_rate, epoch)\n",
        "        torch.save(model.state_dict(), model_path)\n",
        "\n",
        "    print('Finished Training')\n",
        "    end_time = time.time()\n",
        "    elapsed_time = end_time - start_time\n",
        "    print(\"Total time elapsed: {:.2f} seconds\".format(elapsed_time))\n",
        "\n",
        "    # plotting\n",
        "    plt.title(\"Training Curve\")\n",
        "    plt.plot(iters, losses, label=\"Train\")\n",
        "    plt.xlabel(\"Epoch\")\n",
        "    plt.ylabel(\"Loss\")\n",
        "    plt.show()\n",
        "\n",
        "    plt.title(\"Training Curve\")\n",
        "    plt.plot(iters, train_acc, label=\"Train\")\n",
        "    plt.plot(iters, val_acc, label=\"Validation\")\n",
        "    plt.xlabel(\"Epoch\")\n",
        "    plt.ylabel(\"Training Accuracy\")\n",
        "    plt.legend(loc='best')\n",
        "    plt.show()\n",
        "\n",
        "    print(\"Final Training Accuracy: {}\".format(train_acc[-1]))\n",
        "    print(\"Final Validation Accuracy: {}\".format(val_acc[-1]))"
      ]
    },
    {
      "cell_type": "markdown",
      "metadata": {},
      "source": [
        "# Baseline Model"
      ]
    },
    {
      "cell_type": "code",
      "execution_count": 43,
      "metadata": {},
      "outputs": [],
      "source": [
        "num_of_hidden_units = 100\n",
        "\n",
        "class BaseLineModel(nn.Module):\n",
        "      def __init__(self):\n",
        "          self.name = \"baseline\"\n",
        "          super(BaseLineModel, self).__init__()\n",
        "          self.conv1 = nn.Conv2d(3, 5, 5) #in_channels=3, out_chanels=5, kernel_size=5\n",
        "          self.pool = nn.MaxPool2d(2, 2) #kernel_size=2, stride=2 \n",
        "          self.conv2 = nn.Conv2d(5, 10, 5) #in_channels=5, out_chanels=10, kernel_size=5\n",
        "          self.fc1 = nn.Linear(10*61*61, num_of_hidden_units)\n",
        "          self.fc2 = nn.Linear(num_of_hidden_units, 20)\n",
        "\n",
        "      def forward(self, x):\n",
        "          x = self.pool(F.relu(self.conv1(x))) \n",
        "          x = self.pool(F.relu(self.conv2(x))) \n",
        "          x = x.view(-1, 10*61*61)\n",
        "          x = F.relu(self.fc1(x)) \n",
        "          x = self.fc2(x)\n",
        "          return x"
      ]
    },
    {
      "cell_type": "markdown",
      "metadata": {},
      "source": [
        "# Primary Model"
      ]
    },
    {
      "cell_type": "markdown",
      "metadata": {},
      "source": [
        "## Transfer Learning Model: ResNet 50"
      ]
    },
    {
      "cell_type": "code",
      "execution_count": 204,
      "metadata": {},
      "outputs": [],
      "source": [
        "# resnet\n",
        "import torchvision.models\n",
        "resNet = torchvision.models.resnet50(pretrained=True)"
      ]
    },
    {
      "cell_type": "code",
      "execution_count": 203,
      "metadata": {},
      "outputs": [],
      "source": [
        "def get_features(data_loader, path):\n",
        "  n = 0\n",
        "\n",
        "  for images, labels in data_loader:\n",
        "    features = resNet(images)\n",
        "    features_tensor = torch.from_numpy(features.detach().numpy())\n",
        "\n",
        "    folder_name = RESNET_FEAUTURES_BASE_PATH +  '\\\\' + path + '\\\\' + classes[labels]\n",
        "    if not os.path.isdir(folder_name):\n",
        "      os.makedirs(folder_name)\n",
        "    torch.save(features_tensor.squeeze(0), folder_name + '\\\\' + 'feature_' + str(n) + '.tensor')\n",
        "    n += 1\n",
        "\n",
        "  print(f\"{path}: Features Extraction Complete\")\n",
        "    "
      ]
    },
    {
      "cell_type": "code",
      "execution_count": null,
      "metadata": {},
      "outputs": [
        {
          "name": "stdout",
          "output_type": "stream",
          "text": [
            "val: Features Extraction Complete\n",
            "test: Features Extraction Complete\n"
          ]
        }
      ],
      "source": [
        "#the original train, val and test will be sent into the ResNet and store the\n",
        "#output tensors by calling the get_features function\n",
        "classes = os.listdir(NEW_DATASET_PATH) #the classes of the leaves here\n",
        "\n",
        "def extractAllFeautures():\n",
        "    train_data = torchvision.datasets.ImageFolder( TRAIN_DATASET_PATH, transform=transforms.ToTensor())\n",
        "    val_data = torchvision.datasets.ImageFolder( VAL_DATASET_PATH, transform=transforms.ToTensor())\n",
        "    test_data = torchvision.datasets.ImageFolder( TEST_DATASET_PATH, transform=transforms.ToTensor())\n",
        "\n",
        "    train_loader = torch.utils.data.DataLoader(train_data, batch_size=1, shuffle=True)\n",
        "    val_loader = torch.utils.data.DataLoader(val_data, batch_size=1, shuffle=True)\n",
        "    test_loader = torch.utils.data.DataLoader(test_data, batch_size=1, shuffle=True)\n",
        "\n",
        "    if os.path.exists(RESNET_FEAUTURES_BASE_PATH):\n",
        "        return f\"{RESNET_FEAUTURES_BASE_PATH} already exists\"\n",
        "    \n",
        "    os.mkdir(RESNET_FEAUTURES_BASE_PATH)\n",
        "\n",
        "    if not os.path.exists(os.path.join(RESNET_FEAUTURES_BASE_PATH, \"train\")):\n",
        "        os.mkdir(os.path.join(RESNET_FEAUTURES_BASE_PATH, \"train\"))\n",
        "        get_features(train_loader, \"train\")\n",
        "\n",
        "    if not os.path.exists(os.path.join(RESNET_FEAUTURES_BASE_PATH, \"val\")):\n",
        "        os.mkdir(os.path.join(RESNET_FEAUTURES_BASE_PATH, \"val\"))\n",
        "        get_features(val_loader, \"val\")\n",
        "\n",
        "    if not os.path.exists(os.path.join(RESNET_FEAUTURES_BASE_PATH, \"test\")):\n",
        "        os.mkdir(os.path.join(RESNET_FEAUTURES_BASE_PATH, \"test\"))\n",
        "        get_features(test_loader, \"test\")\n",
        "    return \"Extraction complete\"\n",
        "\n",
        "# result = extractAllFeautures()\n",
        "# print(result)"
      ]
    },
    {
      "cell_type": "code",
      "execution_count": 207,
      "metadata": {},
      "outputs": [
        {
          "name": "stdout",
          "output_type": "stream",
          "text": [
            "PepperBell_Healthy: 700 - 149 - 150 \n"
          ]
        }
      ],
      "source": [
        "for classes in os.listdir(os.path.join(RESNET_FEAUTURES_BASE_PATH, \"train\")):\n",
        "    # print(classes)\n",
        "    x = os.listdir(os.path.join(RESNET_FEAUTURES_BASE_PATH, \"train\", classes))\n",
        "    y = os.listdir(os.path.join(RESNET_FEAUTURES_BASE_PATH, \"val\", classes))\n",
        "    z = os.listdir(os.path.join(RESNET_FEAUTURES_BASE_PATH, \"test\", classes))\n",
        "\n",
        "    if len(x) != 700 or len(y) != 150 or len(z) != 150:\n",
        "        print(f\"{classes}: {len(x)} - {len(y)} - {len(z)} \")\n"
      ]
    },
    {
      "cell_type": "markdown",
      "metadata": {},
      "source": [
        "## Classifier Neural Network Model"
      ]
    },
    {
      "cell_type": "code",
      "execution_count": 107,
      "metadata": {},
      "outputs": [],
      "source": [
        "#simple CNN that we will use to train using the train function\n",
        "class simpleCNN(nn.Module):\n",
        "      def __init__(self):\n",
        "          super(simpleCNN, self).__init__()\n",
        "          self.name = \"simpleCNN\"\n",
        "          self.conv1 = nn.Conv2d(512, 300, 3, padding=1) #in_channels, out_channels, kernel_size\n",
        "          self.pool = nn.MaxPool2d(2, 2) #kernel_size, stride \n",
        "          self.fc1 = nn.Linear(300 * 3 * 3, 9)\n",
        "\n",
        "      def forward(self, x):\n",
        "          x = self.pool(F.relu(self.conv1(x)))\n",
        "          x = x.view(-1, 153600)\n",
        "          x = self.fc1(x)\n",
        "          x = x.squeeze(1) # Flatten to [batch_size]\n",
        "          return x"
      ]
    },
    {
      "cell_type": "code",
      "execution_count": 208,
      "metadata": {},
      "outputs": [],
      "source": [
        "class Classifier(nn.Module):\n",
        "    def __init__(self):\n",
        "        super(Classifier, self).__init__()\n",
        "        self.name = \"classifier\"\n",
        "        self.layer1 = nn.Linear(1000, 300)\n",
        "        self.layer2 = nn.Linear(300, 100)\n",
        "        self.layer3 = nn.Linear(100, 20)\n",
        "\n",
        "    def forward(self, x):\n",
        "        x = F.relu( self.layer1(x) )\n",
        "        x = F.relu( self.layer2(x) )\n",
        "        x = self.layer3(x)\n",
        "        return x\n",
        "        return F.softmax(x)"
      ]
    },
    {
      "cell_type": "code",
      "execution_count": 236,
      "metadata": {},
      "outputs": [],
      "source": [
        "class LargeClassifier(nn.Module):\n",
        "    def __init__(self):\n",
        "        super(LargeClassifier, self).__init__()\n",
        "        self.name = \"large_classifier\"\n",
        "        self.layer1 = nn.Linear(1000, 600)\n",
        "        self.layer2 = nn.Linear(600, 200)\n",
        "        self.layer3 = nn.Linear(200, 40)\n",
        "        self.layer4 = nn.Linear(40, 20)\n",
        "\n",
        "    def forward(self, x):\n",
        "        x = F.relu( self.layer1(x) )\n",
        "        x = F.relu( self.layer2(x) )\n",
        "        x = F.relu( self.layer3(x) )\n",
        "        x = self.layer4(x)\n",
        "        return x\n",
        "        return F.softmax(x)"
      ]
    },
    {
      "cell_type": "markdown",
      "metadata": {},
      "source": [
        "## Training Created Model and Hyperparameter Tuning"
      ]
    },
    {
      "cell_type": "code",
      "execution_count": 247,
      "metadata": {},
      "outputs": [],
      "source": [
        "#makes a new train, val and test set from the tensors that we get from the ResNet\n",
        "# main_path = \"content/gdrive/My Drive/Colab Notebooks/ResNet Features/\"\n",
        "\n",
        "resnet_train_data = torchvision.datasets.DatasetFolder(RESNET_FEAUTURES_BASE_PATH + '/train', loader=torch.load, extensions=('.tensor'))\n",
        "resnet_val_data = torchvision.datasets.DatasetFolder(RESNET_FEAUTURES_BASE_PATH + '/val', loader=torch.load, extensions=('.tensor'))\n",
        "resnet_test_data = torchvision.datasets.DatasetFolder(RESNET_FEAUTURES_BASE_PATH + '/test', loader=torch.load, extensions=('.tensor'))"
      ]
    },
    {
      "cell_type": "code",
      "execution_count": 226,
      "metadata": {},
      "outputs": [
        {
          "name": "stdout",
          "output_type": "stream",
          "text": [
            "CUDA is available!  Training on GPU ...\n",
            "Epoch 1: Train acc: 0.05 | Validation acc: 0.050016672224074694\n",
            "Epoch 2: Train acc: 0.07371428571428572 | Validation acc: 0.07435811937312438\n",
            "Epoch 3: Train acc: 0.06314285714285714 | Validation acc: 0.061020340113371124\n",
            "Epoch 4: Train acc: 0.057928571428571426 | Validation acc: 0.057685895298432814\n",
            "Epoch 5: Train acc: 0.06714285714285714 | Validation acc: 0.07069023007669223\n",
            "Epoch 6: Train acc: 0.05678571428571429 | Validation acc: 0.0596865621873958\n",
            "Epoch 7: Train acc: 0.06035714285714286 | Validation acc: 0.05835278426142047\n",
            "Epoch 8: Train acc: 0.06335714285714286 | Validation acc: 0.06335445148382794\n",
            "Epoch 9: Train acc: 0.08207142857142857 | Validation acc: 0.08469489829943315\n",
            "Epoch 10: Train acc: 0.1365 | Validation acc: 0.13471157052350782\n",
            "Epoch 11: Train acc: 0.17564285714285716 | Validation acc: 0.17305768589529844\n",
            "Epoch 12: Train acc: 0.16242857142857142 | Validation acc: 0.15305101700566856\n",
            "Epoch 13: Train acc: 0.1642142857142857 | Validation acc: 0.15638546182060686\n",
            "Epoch 14: Train acc: 0.19507142857142856 | Validation acc: 0.1867289096365455\n",
            "Epoch 15: Train acc: 0.19964285714285715 | Validation acc: 0.20073357785928642\n",
            "Epoch 16: Train acc: 0.21157142857142858 | Validation acc: 0.21307102367455819\n",
            "Epoch 17: Train acc: 0.2002857142857143 | Validation acc: 0.20173391130376792\n",
            "Epoch 18: Train acc: 0.21914285714285714 | Validation acc: 0.21407135711903968\n",
            "Epoch 19: Train acc: 0.18478571428571428 | Validation acc: 0.18172724241413804\n",
            "Epoch 20: Train acc: 0.1915 | Validation acc: 0.19073024341447148\n",
            "Epoch 21: Train acc: 0.20114285714285715 | Validation acc: 0.2004001333777926\n",
            "Epoch 22: Train acc: 0.18464285714285714 | Validation acc: 0.18372790930310104\n",
            "Epoch 23: Train acc: 0.18 | Validation acc: 0.18372790930310104\n",
            "Epoch 24: Train acc: 0.18064285714285713 | Validation acc: 0.17572524174724907\n",
            "Epoch 25: Train acc: 0.1757142857142857 | Validation acc: 0.17539179726575524\n",
            "Epoch 26: Train acc: 0.1747857142857143 | Validation acc: 0.17239079693231077\n",
            "Epoch 27: Train acc: 0.174 | Validation acc: 0.1707235745248416\n",
            "Epoch 28: Train acc: 0.18042857142857144 | Validation acc: 0.17739246415471824\n",
            "Epoch 29: Train acc: 0.1727857142857143 | Validation acc: 0.17139046348782927\n",
            "Epoch 30: Train acc: 0.1747142857142857 | Validation acc: 0.17672557519173057\n",
            "Epoch 31: Train acc: 0.19442857142857142 | Validation acc: 0.1930643547849283\n",
            "Epoch 32: Train acc: 0.18942857142857142 | Validation acc: 0.1983994664888296\n",
            "Epoch 33: Train acc: 0.2035 | Validation acc: 0.20640213404468155\n",
            "Epoch 34: Train acc: 0.187 | Validation acc: 0.19606535511837278\n",
            "Epoch 35: Train acc: 0.20607142857142857 | Validation acc: 0.20806935645215072\n",
            "Epoch 36: Train acc: 0.21914285714285714 | Validation acc: 0.22740913637879293\n",
            "Epoch 37: Train acc: 0.2235 | Validation acc: 0.23041013671223742\n",
            "Epoch 38: Train acc: 0.22121428571428572 | Validation acc: 0.21773924641547182\n",
            "Epoch 39: Train acc: 0.2327142857142857 | Validation acc: 0.23841280426808936\n",
            "Epoch 40: Train acc: 0.24471428571428572 | Validation acc: 0.2367455818606202\n",
            "Epoch 41: Train acc: 0.245 | Validation acc: 0.24908302767589197\n",
            "Epoch 42: Train acc: 0.25242857142857145 | Validation acc: 0.25608536178726243\n",
            "Epoch 43: Train acc: 0.2672857142857143 | Validation acc: 0.2704234744914972\n",
            "Epoch 44: Train acc: 0.2705714285714286 | Validation acc: 0.27542514171390464\n",
            "Epoch 45: Train acc: 0.2737857142857143 | Validation acc: 0.274758252750917\n",
            "Epoch 46: Train acc: 0.2797857142857143 | Validation acc: 0.29476492164054685\n",
            "Epoch 47: Train acc: 0.2825714285714286 | Validation acc: 0.2827609203067689\n",
            "Epoch 48: Train acc: 0.3062142857142857 | Validation acc: 0.3111037012337446\n",
            "Epoch 49: Train acc: 0.30707142857142855 | Validation acc: 0.3114371457152384\n",
            "Epoch 50: Train acc: 0.3181428571428571 | Validation acc: 0.32144048016005333\n",
            "Epoch 51: Train acc: 0.3235 | Validation acc: 0.3371123707902634\n",
            "Epoch 52: Train acc: 0.3465714285714286 | Validation acc: 0.34444814938312773\n",
            "Epoch 53: Train acc: 0.3482142857142857 | Validation acc: 0.35578526175391795\n",
            "Epoch 54: Train acc: 0.37592857142857145 | Validation acc: 0.3871290430143381\n",
            "Epoch 55: Train acc: 0.3745 | Validation acc: 0.3741247082360787\n",
            "Epoch 56: Train acc: 0.39121428571428574 | Validation acc: 0.3987995998666222\n",
            "Epoch 57: Train acc: 0.401 | Validation acc: 0.4094698232744248\n",
            "Epoch 58: Train acc: 0.3960714285714286 | Validation acc: 0.39579859953317775\n",
            "Epoch 59: Train acc: 0.41214285714285714 | Validation acc: 0.41547182394131377\n",
            "Epoch 60: Train acc: 0.42328571428571427 | Validation acc: 0.4294764921640547\n",
            "Epoch 61: Train acc: 0.21407142857142858 | Validation acc: 0.20173391130376792\n",
            "Epoch 62: Train acc: 0.32757142857142857 | Validation acc: 0.3187729243081027\n",
            "Epoch 63: Train acc: 0.2845714285714286 | Validation acc: 0.2737579193064355\n",
            "Epoch 64: Train acc: 0.3480714285714286 | Validation acc: 0.3581193731243748\n",
            "Epoch 65: Train acc: 0.4248571428571429 | Validation acc: 0.4338112704234745\n",
            "Epoch 66: Train acc: 0.4345 | Validation acc: 0.432810936978993\n",
            "Epoch 67: Train acc: 0.4491428571428571 | Validation acc: 0.4551517172390797\n",
            "Epoch 68: Train acc: 0.4417142857142857 | Validation acc: 0.45048349449816605\n",
            "Epoch 69: Train acc: 0.4634285714285714 | Validation acc: 0.4711570523507836\n",
            "Epoch 70: Train acc: 0.4372857142857143 | Validation acc: 0.4424808269423141\n",
            "Epoch 71: Train acc: 0.437 | Validation acc: 0.4454818272757586\n",
            "Epoch 72: Train acc: 0.43007142857142855 | Validation acc: 0.4381460486828943\n",
            "Epoch 73: Train acc: 0.4052142857142857 | Validation acc: 0.4008002667555852\n",
            "Epoch 74: Train acc: 0.4551428571428571 | Validation acc: 0.47149049683227745\n",
            "Epoch 75: Train acc: 0.41764285714285715 | Validation acc: 0.43547849283094364\n",
            "Epoch 76: Train acc: 0.42514285714285716 | Validation acc: 0.43114371457152384\n",
            "Epoch 77: Train acc: 0.40835714285714286 | Validation acc: 0.41613871290430143\n",
            "Epoch 78: Train acc: 0.3906428571428571 | Validation acc: 0.3891297099033011\n",
            "Epoch 79: Train acc: 0.4477857142857143 | Validation acc: 0.4444814938312771\n",
            "Epoch 80: Train acc: 0.3940714285714286 | Validation acc: 0.3951317105701901\n",
            "Epoch 81: Train acc: 0.4125714285714286 | Validation acc: 0.41947315771923976\n",
            "Epoch 82: Train acc: 0.42492857142857143 | Validation acc: 0.42180726908969657\n",
            "Epoch 83: Train acc: 0.42364285714285715 | Validation acc: 0.4208069356452151\n",
            "Epoch 84: Train acc: 0.4268571428571429 | Validation acc: 0.4191397132377459\n",
            "Epoch 85: Train acc: 0.4835714285714286 | Validation acc: 0.4964988329443148\n",
            "Epoch 86: Train acc: 0.34535714285714286 | Validation acc: 0.345781927309103\n",
            "Epoch 87: Train acc: 0.488 | Validation acc: 0.4928309436478826\n",
            "Epoch 88: Train acc: 0.3605 | Validation acc: 0.3654551517172391\n",
            "Epoch 89: Train acc: 0.48128571428571426 | Validation acc: 0.48016005335111706\n",
            "Epoch 90: Train acc: 0.5283571428571429 | Validation acc: 0.5321773924641547\n",
            "Epoch 91: Train acc: 0.504 | Validation acc: 0.5065021673891297\n",
            "Epoch 92: Train acc: 0.5393571428571429 | Validation acc: 0.5468489496498833\n",
            "Epoch 93: Train acc: 0.5369285714285714 | Validation acc: 0.5471823941313771\n",
            "Epoch 94: Train acc: 0.5450714285714285 | Validation acc: 0.5585195065021674\n",
            "Epoch 95: Train acc: 0.5351428571428571 | Validation acc: 0.5438479493164388\n",
            "Epoch 96: Train acc: 0.5510714285714285 | Validation acc: 0.5511837279093031\n",
            "Epoch 97: Train acc: 0.5477142857142857 | Validation acc: 0.5531843947982661\n",
            "Epoch 98: Train acc: 0.5656428571428571 | Validation acc: 0.5721907302434145\n",
            "Epoch 99: Train acc: 0.5676428571428571 | Validation acc: 0.5781927309103034\n",
            "Epoch 100: Train acc: 0.5367142857142857 | Validation acc: 0.5451817272424141\n",
            "Finished Training\n",
            "Total time elapsed: 1010.62 seconds\n"
          ]
        },
        {
          "data": {
            "image/png": "[encoded data removed]",
            "text/plain": [
              "<Figure size 432x288 with 1 Axes>"
            ]
          },
          "metadata": {
            "needs_background": "light"
          },
          "output_type": "display_data"
        },
        {
          "data": {
            "image/png": "[encoded data removed]",
            "text/plain": [
              "<Figure size 432x288 with 1 Axes>"
            ]
          },
          "metadata": {
            "needs_background": "light"
          },
          "output_type": "display_data"
        },
        {
          "name": "stdout",
          "output_type": "stream",
          "text": [
            "Final Training Accuracy: 0.5367142857142857\n",
            "Final Validation Accuracy: 0.5451817272424141\n"
          ]
        }
      ],
      "source": [
        "use_cuda = True\n",
        "\n",
        "model = Classifier()\n",
        "\n",
        "if use_cuda and torch.cuda.is_available():\n",
        "  model.cuda()\n",
        "  print('CUDA is available!  Training on GPU ...')\n",
        "else:\n",
        "  print('CUDA is not available.  Training on CPU ...')\n",
        "\n",
        "train(model, resnet_train_data, resnet_val_data, batch_size=2048, learning_rate=0.008, num_epochs=100)"
      ]
    },
    {
      "cell_type": "code",
      "execution_count": 227,
      "metadata": {},
      "outputs": [
        {
          "name": "stdout",
          "output_type": "stream",
          "text": [
            "CUDA is available!  Training on GPU ...\n",
            "Epoch 1: Train acc: 0.05 | Validation acc: 0.050016672224074694\n",
            "Epoch 2: Train acc: 0.07285714285714286 | Validation acc: 0.07069023007669223\n",
            "Epoch 3: Train acc: 0.05092857142857143 | Validation acc: 0.050016672224074694\n",
            "Epoch 4: Train acc: 0.053714285714285714 | Validation acc: 0.0543514504834945\n",
            "Epoch 5: Train acc: 0.057428571428571426 | Validation acc: 0.05735245081693898\n",
            "Epoch 6: Train acc: 0.07435714285714286 | Validation acc: 0.07335778592864288\n",
            "Epoch 7: Train acc: 0.08257142857142857 | Validation acc: 0.0820273424474825\n",
            "Epoch 8: Train acc: 0.09728571428571428 | Validation acc: 0.09336445481827275\n",
            "Epoch 9: Train acc: 0.09114285714285714 | Validation acc: 0.09536512170723574\n",
            "Epoch 10: Train acc: 0.08407142857142857 | Validation acc: 0.08936312104034679\n",
            "Epoch 11: Train acc: 0.10014285714285714 | Validation acc: 0.10903634544848283\n",
            "Epoch 12: Train acc: 0.12535714285714286 | Validation acc: 0.12504168056018672\n",
            "Epoch 13: Train acc: 0.1505 | Validation acc: 0.1490496832277426\n",
            "Epoch 14: Train acc: 0.14992857142857144 | Validation acc: 0.15171723907969323\n",
            "Epoch 15: Train acc: 0.1412857142857143 | Validation acc: 0.14438146048682896\n",
            "Epoch 16: Train acc: 0.153 | Validation acc: 0.1480493497832611\n",
            "Epoch 17: Train acc: 0.1415 | Validation acc: 0.14204734911637212\n",
            "Epoch 18: Train acc: 0.148 | Validation acc: 0.14004668222740912\n",
            "Epoch 19: Train acc: 0.1485 | Validation acc: 0.1450483494498166\n",
            "Epoch 20: Train acc: 0.13564285714285715 | Validation acc: 0.13171057019006335\n",
            "Epoch 21: Train acc: 0.12035714285714286 | Validation acc: 0.12104034678226075\n",
            "Epoch 22: Train acc: 0.12614285714285714 | Validation acc: 0.12537512504168055\n",
            "Epoch 23: Train acc: 0.14757142857142858 | Validation acc: 0.1513837945981994\n",
            "Epoch 24: Train acc: 0.14135714285714285 | Validation acc: 0.13704568189396465\n",
            "Epoch 25: Train acc: 0.1402142857142857 | Validation acc: 0.14571523841280426\n",
            "Epoch 26: Train acc: 0.1382142857142857 | Validation acc: 0.1417139046348783\n",
            "Epoch 27: Train acc: 0.14792857142857144 | Validation acc: 0.15471823941313773\n",
            "Epoch 28: Train acc: 0.15857142857142856 | Validation acc: 0.15805268422807603\n",
            "Epoch 29: Train acc: 0.16414285714285715 | Validation acc: 0.15905301767255753\n",
            "Epoch 30: Train acc: 0.174 | Validation acc: 0.1717239079693231\n",
            "Epoch 31: Train acc: 0.18992857142857142 | Validation acc: 0.20073357785928642\n",
            "Epoch 32: Train acc: 0.18714285714285714 | Validation acc: 0.19873291097032345\n",
            "Epoch 33: Train acc: 0.20464285714285715 | Validation acc: 0.20806935645215072\n",
            "Epoch 34: Train acc: 0.199 | Validation acc: 0.1963987995998666\n",
            "Epoch 35: Train acc: 0.19907142857142857 | Validation acc: 0.19706568856285428\n",
            "Epoch 36: Train acc: 0.1982857142857143 | Validation acc: 0.2004001333777926\n",
            "Epoch 37: Train acc: 0.2082857142857143 | Validation acc: 0.21073691230410135\n",
            "Epoch 38: Train acc: 0.20314285714285715 | Validation acc: 0.20106702234078025\n",
            "Epoch 39: Train acc: 0.21864285714285714 | Validation acc: 0.21340446815605202\n",
            "Epoch 40: Train acc: 0.21428571428571427 | Validation acc: 0.20506835611870625\n",
            "Epoch 41: Train acc: 0.225 | Validation acc: 0.21707235745248415\n",
            "Epoch 42: Train acc: 0.22742857142857142 | Validation acc: 0.22840946982327442\n",
            "Epoch 43: Train acc: 0.21478571428571427 | Validation acc: 0.22407469156385462\n",
            "Epoch 44: Train acc: 0.2342857142857143 | Validation acc: 0.23507835945315106\n",
            "Epoch 45: Train acc: 0.2312142857142857 | Validation acc: 0.2280760253417806\n",
            "Epoch 46: Train acc: 0.23842857142857143 | Validation acc: 0.25408469489829943\n",
            "Epoch 47: Train acc: 0.2639285714285714 | Validation acc: 0.2644214738246082\n",
            "Epoch 48: Train acc: 0.2639285714285714 | Validation acc: 0.2717572524174725\n",
            "Epoch 49: Train acc: 0.2747857142857143 | Validation acc: 0.2737579193064355\n",
            "Epoch 50: Train acc: 0.2634285714285714 | Validation acc: 0.272757585861954\n",
            "Epoch 51: Train acc: 0.29364285714285715 | Validation acc: 0.3071023674558186\n",
            "Epoch 52: Train acc: 0.2890714285714286 | Validation acc: 0.29876625541847285\n",
            "Epoch 53: Train acc: 0.305 | Validation acc: 0.32244081360453486\n",
            "Epoch 54: Train acc: 0.3172142857142857 | Validation acc: 0.32577525841947313\n",
            "Epoch 55: Train acc: 0.31707142857142856 | Validation acc: 0.3237745915305102\n",
            "Epoch 56: Train acc: 0.31921428571428573 | Validation acc: 0.32810936978993\n",
            "Epoch 57: Train acc: 0.3457857142857143 | Validation acc: 0.3567855951983995\n",
            "Epoch 58: Train acc: 0.34064285714285714 | Validation acc: 0.3507835945315105\n",
            "Epoch 59: Train acc: 0.36178571428571427 | Validation acc: 0.3761253751250417\n",
            "Epoch 60: Train acc: 0.36607142857142855 | Validation acc: 0.3837945981993998\n",
            "Epoch 61: Train acc: 0.3632142857142857 | Validation acc: 0.37245748582860955\n",
            "Epoch 62: Train acc: 0.36078571428571427 | Validation acc: 0.3721240413471157\n",
            "Epoch 63: Train acc: 0.3735 | Validation acc: 0.38946315438479495\n",
            "Epoch 64: Train acc: 0.3882857142857143 | Validation acc: 0.39713237745915303\n",
            "Epoch 65: Train acc: 0.37642857142857145 | Validation acc: 0.37712570856952315\n",
            "Epoch 66: Train acc: 0.3935 | Validation acc: 0.40780260086695563\n",
            "Epoch 67: Train acc: 0.4095714285714286 | Validation acc: 0.41947315771923976\n",
            "Epoch 68: Train acc: 0.38235714285714284 | Validation acc: 0.38579526508836276\n",
            "Epoch 69: Train acc: 0.41928571428571426 | Validation acc: 0.42814271423807937\n",
            "Epoch 70: Train acc: 0.39814285714285713 | Validation acc: 0.41313771257085696\n",
            "Epoch 71: Train acc: 0.4064285714285714 | Validation acc: 0.41413804601533843\n",
            "Epoch 72: Train acc: 0.4230714285714286 | Validation acc: 0.42680893631210404\n",
            "Epoch 73: Train acc: 0.4097142857142857 | Validation acc: 0.4171390463487829\n",
            "Epoch 74: Train acc: 0.235 | Validation acc: 0.23107702567522506\n",
            "Epoch 75: Train acc: 0.252 | Validation acc: 0.25375125041680563\n",
            "Epoch 76: Train acc: 0.3082142857142857 | Validation acc: 0.3124374791597199\n",
            "Epoch 77: Train acc: 0.26657142857142857 | Validation acc: 0.25408469489829943\n",
            "Epoch 78: Train acc: 0.3462142857142857 | Validation acc: 0.349783261087029\n",
            "Epoch 79: Train acc: 0.37857142857142856 | Validation acc: 0.38112704234744915\n",
            "Epoch 80: Train acc: 0.36064285714285715 | Validation acc: 0.37279093031010335\n",
            "Epoch 81: Train acc: 0.42757142857142855 | Validation acc: 0.43781260420140045\n",
            "Epoch 82: Train acc: 0.41864285714285715 | Validation acc: 0.42480826942314104\n",
            "Epoch 83: Train acc: 0.46564285714285714 | Validation acc: 0.4661553851283761\n",
            "Epoch 84: Train acc: 0.44107142857142856 | Validation acc: 0.4541513837945982\n",
            "Epoch 85: Train acc: 0.46085714285714285 | Validation acc: 0.4681560520173391\n",
            "Epoch 86: Train acc: 0.4501428571428571 | Validation acc: 0.4621540513504501\n",
            "Epoch 87: Train acc: 0.45335714285714285 | Validation acc: 0.4661553851283761\n",
            "Epoch 88: Train acc: 0.4649285714285714 | Validation acc: 0.46748916305435145\n",
            "Epoch 89: Train acc: 0.4565714285714286 | Validation acc: 0.46348782927642546\n",
            "Epoch 90: Train acc: 0.41114285714285714 | Validation acc: 0.4144714904968323\n",
            "Epoch 91: Train acc: 0.4615 | Validation acc: 0.4711570523507836\n",
            "Epoch 92: Train acc: 0.49057142857142855 | Validation acc: 0.4968322774258086\n",
            "Epoch 93: Train acc: 0.44921428571428573 | Validation acc: 0.4551517172390797\n",
            "Epoch 94: Train acc: 0.47685714285714287 | Validation acc: 0.47715905301767253\n",
            "Epoch 95: Train acc: 0.5086428571428572 | Validation acc: 0.5148382794264755\n",
            "Epoch 96: Train acc: 0.48714285714285716 | Validation acc: 0.48782927642547513\n",
            "Epoch 97: Train acc: 0.46635714285714286 | Validation acc: 0.4704901633877959\n",
            "Epoch 98: Train acc: 0.5148571428571429 | Validation acc: 0.5155051683894631\n",
            "Epoch 99: Train acc: 0.5182857142857142 | Validation acc: 0.5308436145381794\n",
            "Epoch 100: Train acc: 0.5247142857142857 | Validation acc: 0.5215071690563521\n",
            "Epoch 101: Train acc: 0.5292142857142857 | Validation acc: 0.5368456152050683\n",
            "Epoch 102: Train acc: 0.5367142857142857 | Validation acc: 0.5485161720573525\n",
            "Epoch 103: Train acc: 0.5397857142857143 | Validation acc: 0.5441813937979326\n",
            "Epoch 104: Train acc: 0.4822142857142857 | Validation acc: 0.4838279426475492\n",
            "Epoch 105: Train acc: 0.5318571428571428 | Validation acc: 0.5428476158719573\n",
            "Epoch 106: Train acc: 0.3940714285714286 | Validation acc: 0.3827942647549183\n",
            "Epoch 107: Train acc: 0.30514285714285716 | Validation acc: 0.3027675891963988\n",
            "Epoch 108: Train acc: 0.24935714285714286 | Validation acc: 0.24541513837945983\n",
            "Epoch 109: Train acc: 0.36464285714285716 | Validation acc: 0.3571190396798933\n",
            "Epoch 110: Train acc: 0.4010714285714286 | Validation acc: 0.40480160053351116\n",
            "Epoch 111: Train acc: 0.43992857142857145 | Validation acc: 0.4371457152384128\n",
            "Epoch 112: Train acc: 0.45935714285714285 | Validation acc: 0.45881960653551185\n",
            "Epoch 113: Train acc: 0.5059285714285714 | Validation acc: 0.515838612870957\n",
            "Epoch 114: Train acc: 0.501 | Validation acc: 0.5135045015005002\n",
            "Epoch 115: Train acc: 0.4655 | Validation acc: 0.4614871623874625\n",
            "Epoch 116: Train acc: 0.5005714285714286 | Validation acc: 0.5081693897965989\n",
            "Epoch 117: Train acc: 0.5605714285714286 | Validation acc: 0.5605201733911304\n",
            "Epoch 118: Train acc: 0.5583571428571429 | Validation acc: 0.567189063021007\n",
            "Epoch 119: Train acc: 0.5705 | Validation acc: 0.5721907302434145\n",
            "Epoch 120: Train acc: 0.5742142857142857 | Validation acc: 0.5765255085028342\n",
            "Epoch 121: Train acc: 0.5803571428571429 | Validation acc: 0.5841947315771924\n",
            "Epoch 122: Train acc: 0.5265 | Validation acc: 0.5341780593531177\n",
            "Epoch 123: Train acc: 0.5252857142857142 | Validation acc: 0.5255085028342781\n",
            "Epoch 124: Train acc: 0.5485 | Validation acc: 0.5471823941313771\n",
            "Epoch 125: Train acc: 0.5322857142857143 | Validation acc: 0.5358452817605869\n",
            "Epoch 126: Train acc: 0.5937857142857143 | Validation acc: 0.5898632877625876\n",
            "Epoch 127: Train acc: 0.5778571428571428 | Validation acc: 0.5708569523174392\n",
            "Epoch 128: Train acc: 0.5890714285714286 | Validation acc: 0.5935311770590197\n",
            "Epoch 129: Train acc: 0.5850714285714286 | Validation acc: 0.5901967322440813\n",
            "Epoch 130: Train acc: 0.536 | Validation acc: 0.5225075025008337\n",
            "Epoch 131: Train acc: 0.5987857142857143 | Validation acc: 0.5951983994664888\n",
            "Epoch 132: Train acc: 0.504 | Validation acc: 0.5041680560186729\n",
            "Epoch 133: Train acc: 0.5702857142857143 | Validation acc: 0.5618539513171057\n",
            "Epoch 134: Train acc: 0.562 | Validation acc: 0.5571857285761921\n",
            "Epoch 135: Train acc: 0.5596428571428571 | Validation acc: 0.5525175058352785\n",
            "Epoch 136: Train acc: 0.588 | Validation acc: 0.5805268422807602\n",
            "Epoch 137: Train acc: 0.5932142857142857 | Validation acc: 0.5931977325775258\n",
            "Epoch 138: Train acc: 0.58 | Validation acc: 0.582860953651217\n",
            "Epoch 139: Train acc: 0.6022142857142857 | Validation acc: 0.596865621873958\n",
            "Epoch 140: Train acc: 0.6032857142857143 | Validation acc: 0.6042014004668222\n",
            "Epoch 141: Train acc: 0.5391428571428571 | Validation acc: 0.5351783927975992\n",
            "Epoch 142: Train acc: 0.5339285714285714 | Validation acc: 0.5321773924641547\n",
            "Epoch 143: Train acc: 0.6112142857142857 | Validation acc: 0.60486828942981\n",
            "Epoch 144: Train acc: 0.5242142857142857 | Validation acc: 0.5261753917972658\n",
            "Epoch 145: Train acc: 0.5105 | Validation acc: 0.5035011670556853\n",
            "Epoch 146: Train acc: 0.5842142857142857 | Validation acc: 0.5905301767255752\n",
            "Epoch 147: Train acc: 0.5475714285714286 | Validation acc: 0.543514504834945\n",
            "Epoch 148: Train acc: 0.5587857142857143 | Validation acc: 0.55351783927976\n",
            "Epoch 149: Train acc: 0.5864285714285714 | Validation acc: 0.5708569523174392\n",
            "Epoch 150: Train acc: 0.5787857142857142 | Validation acc: 0.5781927309103034\n",
            "Epoch 151: Train acc: 0.6045714285714285 | Validation acc: 0.6018672890963654\n",
            "Epoch 152: Train acc: 0.6082857142857143 | Validation acc: 0.5881960653551184\n",
            "Epoch 153: Train acc: 0.6459285714285714 | Validation acc: 0.6378792930976992\n",
            "Epoch 154: Train acc: 0.6636428571428571 | Validation acc: 0.6498832944314772\n",
            "Epoch 155: Train acc: 0.6279285714285714 | Validation acc: 0.6118706235411804\n",
            "Epoch 156: Train acc: 0.6024285714285714 | Validation acc: 0.5958652884294765\n",
            "Epoch 157: Train acc: 0.6681428571428571 | Validation acc: 0.6565521840613537\n",
            "Epoch 158: Train acc: 0.6363571428571428 | Validation acc: 0.6298766255418473\n",
            "Epoch 159: Train acc: 0.6526428571428572 | Validation acc: 0.640213404468156\n",
            "Epoch 160: Train acc: 0.6296428571428572 | Validation acc: 0.6292097365788596\n",
            "Epoch 161: Train acc: 0.6155714285714285 | Validation acc: 0.6112037345781928\n",
            "Epoch 162: Train acc: 0.6467857142857143 | Validation acc: 0.6332110703567856\n",
            "Epoch 163: Train acc: 0.6407857142857143 | Validation acc: 0.6308769589863288\n",
            "Epoch 164: Train acc: 0.6155714285714285 | Validation acc: 0.5958652884294765\n",
            "Epoch 165: Train acc: 0.6555714285714286 | Validation acc: 0.6385461820606869\n",
            "Epoch 166: Train acc: 0.6335 | Validation acc: 0.6298766255418473\n",
            "Epoch 167: Train acc: 0.6551428571428571 | Validation acc: 0.6525508502834279\n",
            "Epoch 168: Train acc: 0.6459285714285714 | Validation acc: 0.6388796265421808\n",
            "Epoch 169: Train acc: 0.664 | Validation acc: 0.6632210736912304\n",
            "Epoch 170: Train acc: 0.6756428571428571 | Validation acc: 0.6632210736912304\n",
            "Epoch 171: Train acc: 0.6822142857142857 | Validation acc: 0.6655551850616872\n",
            "Epoch 172: Train acc: 0.6537857142857143 | Validation acc: 0.6448816272090697\n",
            "Epoch 173: Train acc: 0.6302142857142857 | Validation acc: 0.6212070690230077\n",
            "Epoch 174: Train acc: 0.6898571428571428 | Validation acc: 0.6752250750250083\n",
            "Epoch 175: Train acc: 0.6692142857142858 | Validation acc: 0.644214738246082\n",
            "Epoch 176: Train acc: 0.6815714285714286 | Validation acc: 0.6635545181727243\n",
            "Epoch 177: Train acc: 0.6917857142857143 | Validation acc: 0.6688896298766256\n",
            "Epoch 178: Train acc: 0.6774285714285714 | Validation acc: 0.6602200733577859\n",
            "Epoch 179: Train acc: 0.6936428571428571 | Validation acc: 0.6795598532844281\n",
            "Epoch 180: Train acc: 0.6988571428571428 | Validation acc: 0.6768922974324775\n",
            "Epoch 181: Train acc: 0.6915714285714286 | Validation acc: 0.6858952984328109\n",
            "Epoch 182: Train acc: 0.7137857142857142 | Validation acc: 0.6985661887295765\n",
            "Epoch 183: Train acc: 0.6951428571428572 | Validation acc: 0.6802267422474157\n",
            "Epoch 184: Train acc: 0.7027857142857142 | Validation acc: 0.6772257419139713\n",
            "Epoch 185: Train acc: 0.7219285714285715 | Validation acc: 0.7059019673224408\n",
            "Epoch 186: Train acc: 0.6956428571428571 | Validation acc: 0.6812270756918973\n",
            "Epoch 187: Train acc: 0.7173571428571428 | Validation acc: 0.7029009669889963\n",
            "Epoch 188: Train acc: 0.6897857142857143 | Validation acc: 0.6698899633211071\n",
            "Epoch 189: Train acc: 0.7265 | Validation acc: 0.70756918972991\n",
            "Epoch 190: Train acc: 0.7155714285714285 | Validation acc: 0.7012337445815272\n",
            "Epoch 191: Train acc: 0.7165714285714285 | Validation acc: 0.6988996332110704\n",
            "Epoch 192: Train acc: 0.7219285714285715 | Validation acc: 0.7059019673224408\n",
            "Epoch 193: Train acc: 0.6817142857142857 | Validation acc: 0.6565521840613537\n",
            "Epoch 194: Train acc: 0.6797142857142857 | Validation acc: 0.6618872957652551\n",
            "Epoch 195: Train acc: 0.6595714285714286 | Validation acc: 0.6418806268756252\n",
            "Epoch 196: Train acc: 0.6229285714285714 | Validation acc: 0.6055351783927976\n",
            "Epoch 197: Train acc: 0.5882142857142857 | Validation acc: 0.5661887295765256\n",
            "Epoch 198: Train acc: 0.2387857142857143 | Validation acc: 0.2300766922307436\n",
            "Epoch 199: Train acc: 0.2347857142857143 | Validation acc: 0.2247415805268423\n",
            "Epoch 200: Train acc: 0.31564285714285717 | Validation acc: 0.304434811603868\n",
            "Finished Training\n",
            "Total time elapsed: 2079.64 seconds\n"
          ]
        },
        {
          "data": {
            "image/png": "[encoded data removed]",
            "text/plain": [
              "<Figure size 432x288 with 1 Axes>"
            ]
          },
          "metadata": {
            "needs_background": "light"
          },
          "output_type": "display_data"
        },
        {
          "data": {
            "image/png": "[encoded data removed]",
            "text/plain": [
              "<Figure size 432x288 with 1 Axes>"
            ]
          },
          "metadata": {
            "needs_background": "light"
          },
          "output_type": "display_data"
        },
        {
          "name": "stdout",
          "output_type": "stream",
          "text": [
            "Final Training Accuracy: 0.31564285714285717\n",
            "Final Validation Accuracy: 0.304434811603868\n"
          ]
        }
      ],
      "source": [
        "model = Classifier()\n",
        "\n",
        "if use_cuda and torch.cuda.is_available():\n",
        "  model.cuda()\n",
        "  print('CUDA is available!  Training on GPU ...')\n",
        "else:\n",
        "  print('CUDA is not available.  Training on CPU ...')\n",
        "\n",
        "train(model, resnet_train_data, resnet_val_data, batch_size=2048, learning_rate=0.007, num_epochs=200)"
      ]
    },
    {
      "cell_type": "code",
      "execution_count": 272,
      "metadata": {},
      "outputs": [
        {
          "name": "stdout",
          "output_type": "stream",
          "text": [
            "Epoch 1: Train acc: 0.8087857142857143 | Validation acc: 0.7715905301767255\n",
            "Epoch 2: Train acc: 0.8077857142857143 | Validation acc: 0.7722574191397132\n",
            "Epoch 3: Train acc: 0.807 | Validation acc: 0.7739246415471824\n",
            "Epoch 4: Train acc: 0.8062857142857143 | Validation acc: 0.7729243081027009\n",
            "Epoch 5: Train acc: 0.7992142857142858 | Validation acc: 0.7675891963987996\n",
            "Epoch 6: Train acc: 0.7995714285714286 | Validation acc: 0.7685895298432811\n",
            "Epoch 7: Train acc: 0.8097857142857143 | Validation acc: 0.7729243081027009\n",
            "Epoch 8: Train acc: 0.8095 | Validation acc: 0.7779259753251083\n",
            "Epoch 9: Train acc: 0.8081428571428572 | Validation acc: 0.7775925308436146\n",
            "Epoch 10: Train acc: 0.8112857142857143 | Validation acc: 0.7772590863621207\n",
            "Epoch 11: Train acc: 0.8113571428571429 | Validation acc: 0.7755918639546515\n",
            "Epoch 12: Train acc: 0.8090714285714286 | Validation acc: 0.7722574191397132\n",
            "Epoch 13: Train acc: 0.8075 | Validation acc: 0.7779259753251083\n",
            "Epoch 14: Train acc: 0.8115714285714286 | Validation acc: 0.7789263087695899\n",
            "Epoch 15: Train acc: 0.8115 | Validation acc: 0.7782594198066022\n",
            "Epoch 16: Train acc: 0.8096428571428571 | Validation acc: 0.7775925308436146\n",
            "Epoch 17: Train acc: 0.8098571428571428 | Validation acc: 0.7792597532510837\n",
            "Epoch 18: Train acc: 0.804 | Validation acc: 0.7722574191397132\n",
            "Epoch 19: Train acc: 0.8122142857142857 | Validation acc: 0.7795931977325775\n",
            "Epoch 20: Train acc: 0.8081428571428572 | Validation acc: 0.7725908636212071\n",
            "Epoch 21: Train acc: 0.8122857142857143 | Validation acc: 0.7755918639546515\n",
            "Epoch 22: Train acc: 0.8128571428571428 | Validation acc: 0.7755918639546515\n",
            "Epoch 23: Train acc: 0.8087857142857143 | Validation acc: 0.7782594198066022\n",
            "Epoch 24: Train acc: 0.8124285714285714 | Validation acc: 0.7792597532510837\n",
            "Epoch 25: Train acc: 0.8123571428571429 | Validation acc: 0.7769256418806268\n",
            "Epoch 26: Train acc: 0.8117142857142857 | Validation acc: 0.77459153051017\n",
            "Epoch 27: Train acc: 0.8144285714285714 | Validation acc: 0.7775925308436146\n",
            "Epoch 28: Train acc: 0.8149285714285714 | Validation acc: 0.780593531177059\n",
            "Epoch 29: Train acc: 0.8142142857142857 | Validation acc: 0.7799266422140714\n",
            "Epoch 30: Train acc: 0.8125714285714286 | Validation acc: 0.7812604201400467\n",
            "Epoch 31: Train acc: 0.8148571428571428 | Validation acc: 0.7782594198066022\n",
            "Epoch 32: Train acc: 0.81 | Validation acc: 0.7715905301767255\n",
            "Epoch 33: Train acc: 0.8109285714285714 | Validation acc: 0.778592864288096\n",
            "Epoch 34: Train acc: 0.8146428571428571 | Validation acc: 0.7792597532510837\n",
            "Epoch 35: Train acc: 0.8080714285714286 | Validation acc: 0.770590196732244\n",
            "Epoch 36: Train acc: 0.8105 | Validation acc: 0.7719239746582194\n",
            "Epoch 37: Train acc: 0.8087142857142857 | Validation acc: 0.7699233077692564\n",
            "Epoch 38: Train acc: 0.8129285714285714 | Validation acc: 0.7759253084361454\n",
            "Epoch 39: Train acc: 0.817 | Validation acc: 0.7859286428809603\n",
            "Epoch 40: Train acc: 0.818 | Validation acc: 0.7862620873624542\n",
            "Epoch 41: Train acc: 0.8095 | Validation acc: 0.7739246415471824\n",
            "Epoch 42: Train acc: 0.8171428571428572 | Validation acc: 0.7815938646215406\n",
            "Epoch 43: Train acc: 0.8180714285714286 | Validation acc: 0.780593531177059\n",
            "Epoch 44: Train acc: 0.8129285714285714 | Validation acc: 0.7739246415471824\n",
            "Epoch 45: Train acc: 0.8178571428571428 | Validation acc: 0.780593531177059\n",
            "Epoch 46: Train acc: 0.8126428571428571 | Validation acc: 0.7812604201400467\n",
            "Epoch 47: Train acc: 0.8154285714285714 | Validation acc: 0.7842614204734911\n",
            "Epoch 48: Train acc: 0.8165714285714286 | Validation acc: 0.7792597532510837\n",
            "Epoch 49: Train acc: 0.8134285714285714 | Validation acc: 0.7762587529176392\n",
            "Epoch 50: Train acc: 0.8184285714285714 | Validation acc: 0.7809269756585528\n",
            "Epoch 51: Train acc: 0.8205 | Validation acc: 0.7852617539179727\n",
            "Epoch 52: Train acc: 0.8169285714285714 | Validation acc: 0.7835945315105035\n",
            "Epoch 53: Train acc: 0.8192857142857143 | Validation acc: 0.7852617539179727\n",
            "Epoch 54: Train acc: 0.8195714285714286 | Validation acc: 0.7862620873624542\n",
            "Epoch 55: Train acc: 0.8093571428571429 | Validation acc: 0.7715905301767255\n",
            "Epoch 56: Train acc: 0.8217142857142857 | Validation acc: 0.782594198066022\n",
            "Epoch 57: Train acc: 0.8196428571428571 | Validation acc: 0.7809269756585528\n",
            "Epoch 58: Train acc: 0.8025714285714286 | Validation acc: 0.7659219739913304\n",
            "Epoch 59: Train acc: 0.8180714285714286 | Validation acc: 0.7792597532510837\n",
            "Epoch 60: Train acc: 0.8191428571428572 | Validation acc: 0.7852617539179727\n",
            "Epoch 61: Train acc: 0.8150714285714286 | Validation acc: 0.7839279759919974\n",
            "Epoch 62: Train acc: 0.8138571428571428 | Validation acc: 0.7779259753251083\n",
            "Epoch 63: Train acc: 0.8212142857142857 | Validation acc: 0.7869289763254418\n",
            "Epoch 64: Train acc: 0.8119285714285714 | Validation acc: 0.7729243081027009\n",
            "Epoch 65: Train acc: 0.8153571428571429 | Validation acc: 0.7835945315105035\n",
            "Epoch 66: Train acc: 0.82 | Validation acc: 0.7822607535845282\n",
            "Epoch 67: Train acc: 0.8214285714285714 | Validation acc: 0.7872624208069356\n",
            "Epoch 68: Train acc: 0.8185714285714286 | Validation acc: 0.7839279759919974\n",
            "Epoch 69: Train acc: 0.8203571428571429 | Validation acc: 0.7879293097699233\n",
            "Epoch 70: Train acc: 0.8219285714285715 | Validation acc: 0.7862620873624542\n",
            "Epoch 71: Train acc: 0.8186428571428571 | Validation acc: 0.7769256418806268\n",
            "Epoch 72: Train acc: 0.8149285714285714 | Validation acc: 0.7812604201400467\n",
            "Epoch 73: Train acc: 0.8093571428571429 | Validation acc: 0.7672557519173058\n",
            "Epoch 74: Train acc: 0.8225 | Validation acc: 0.7875958652884295\n",
            "Epoch 75: Train acc: 0.8196428571428571 | Validation acc: 0.7819273091030343\n",
            "Epoch 76: Train acc: 0.8189285714285715 | Validation acc: 0.7815938646215406\n",
            "Epoch 77: Train acc: 0.8183571428571429 | Validation acc: 0.7819273091030343\n",
            "Epoch 78: Train acc: 0.8253571428571429 | Validation acc: 0.7879293097699233\n",
            "Epoch 79: Train acc: 0.8221428571428572 | Validation acc: 0.788596198732911\n",
            "Epoch 80: Train acc: 0.8215714285714286 | Validation acc: 0.7872624208069356\n",
            "Epoch 81: Train acc: 0.8168571428571428 | Validation acc: 0.7752584194731578\n",
            "Epoch 82: Train acc: 0.8246428571428571 | Validation acc: 0.782594198066022\n",
            "Epoch 83: Train acc: 0.821 | Validation acc: 0.7849283094364788\n",
            "Epoch 84: Train acc: 0.8228571428571428 | Validation acc: 0.7835945315105035\n",
            "Epoch 85: Train acc: 0.8237142857142857 | Validation acc: 0.7869289763254418\n",
            "Epoch 86: Train acc: 0.8195 | Validation acc: 0.7849283094364788\n",
            "Epoch 87: Train acc: 0.8178571428571428 | Validation acc: 0.782594198066022\n",
            "Epoch 88: Train acc: 0.821 | Validation acc: 0.7849283094364788\n",
            "Epoch 89: Train acc: 0.826 | Validation acc: 0.7929309769923307\n",
            "Epoch 90: Train acc: 0.8227142857142857 | Validation acc: 0.7882627542514171\n",
            "Epoch 91: Train acc: 0.8186428571428571 | Validation acc: 0.782594198066022\n",
            "Epoch 92: Train acc: 0.8253571428571429 | Validation acc: 0.7902634211403802\n",
            "Epoch 93: Train acc: 0.8257857142857142 | Validation acc: 0.7929309769923307\n",
            "Epoch 94: Train acc: 0.8151428571428572 | Validation acc: 0.7762587529176392\n",
            "Epoch 95: Train acc: 0.8104285714285714 | Validation acc: 0.7725908636212071\n",
            "Epoch 96: Train acc: 0.8232857142857143 | Validation acc: 0.7829276425475158\n",
            "Epoch 97: Train acc: 0.8257857142857142 | Validation acc: 0.7822607535845282\n",
            "Epoch 98: Train acc: 0.8216428571428571 | Validation acc: 0.7889296432144048\n",
            "Epoch 99: Train acc: 0.8156428571428571 | Validation acc: 0.7872624208069356\n",
            "Epoch 100: Train acc: 0.8085 | Validation acc: 0.7729243081027009\n",
            "Finished Training\n",
            "Total time elapsed: 855.34 seconds\n"
          ]
        },
        {
          "data": {
            "image/png": "[encoded data removed]",
            "text/plain": [
              "<Figure size 432x288 with 1 Axes>"
            ]
          },
          "metadata": {
            "needs_background": "light"
          },
          "output_type": "display_data"
        },
        {
          "data": {
            "image/png": "[encoded data removed]",
            "text/plain": [
              "<Figure size 432x288 with 1 Axes>"
            ]
          },
          "metadata": {
            "needs_background": "light"
          },
          "output_type": "display_data"
        },
        {
          "name": "stdout",
          "output_type": "stream",
          "text": [
            "Final Training Accuracy: 0.8085\n",
            "Final Validation Accuracy: 0.7729243081027009\n"
          ]
        }
      ],
      "source": [
        "model = Classifier()\n",
        "\n",
        "model_path = get_model_name(model.name, batch_size=3072, learning_rate=0.001, epoch=99)\n",
        "state = torch.load(model_path)\n",
        "model.load_state_dict(state)\n",
        "\n",
        "model.cuda()\n",
        "get_accuracy(model, resnet_train_data, 3072)\n",
        "# Continue training at a lower lr\n",
        "train(model, resnet_train_data, resnet_val_data, batch_size=3072, learning_rate=0.004, num_epochs=100)\n",
        "\n"
      ]
    },
    {
      "cell_type": "code",
      "execution_count": null,
      "metadata": {},
      "outputs": [],
      "source": []
    },
    {
      "cell_type": "markdown",
      "metadata": {},
      "source": [
        "# Testing Code - CAN BE REMOVED LATER"
      ]
    },
    {
      "cell_type": "code",
      "execution_count": 188,
      "metadata": {},
      "outputs": [
        {
          "name": "stdout",
          "output_type": "stream",
          "text": [
            "tensor([[-0.3729, -0.0724,  0.1117, -0.0349,  0.1092, -0.2318,  0.4402,  0.0314,\n",
            "          0.1231, -0.2097, -0.0012, -0.4110,  0.2113, -0.1954,  0.0220,  0.0611,\n",
            "         -0.3787, -0.0844,  0.1765, -0.0540,  0.1799, -0.0418, -0.3546, -0.1037,\n",
            "         -0.0665,  0.0351,  0.3018, -0.1533, -0.1152],\n",
            "        [-0.3763, -0.1091,  0.1229, -0.0350,  0.1116, -0.2481,  0.4310,  0.0429,\n",
            "          0.1436, -0.2249,  0.0148, -0.4009,  0.2297, -0.1868,  0.0193,  0.0362,\n",
            "         -0.3893, -0.0935,  0.2060, -0.0661,  0.1949, -0.0038, -0.3333, -0.0838,\n",
            "         -0.0732,  0.0550,  0.2922, -0.1615, -0.1567]], device='cuda:0',\n",
            "       grad_fn=<AddmmBackward>)\n",
            "tensor([[0.0242, 0.0326, 0.0392, 0.0339, 0.0391, 0.0278, 0.0545, 0.0362, 0.0397,\n",
            "         0.0284, 0.0350, 0.0232, 0.0433, 0.0288, 0.0358, 0.0373, 0.0240, 0.0322,\n",
            "         0.0418, 0.0332, 0.0420, 0.0336, 0.0246, 0.0316, 0.0328, 0.0363, 0.0474,\n",
            "         0.0301, 0.0312],\n",
            "        [0.0240, 0.0314, 0.0396, 0.0338, 0.0391, 0.0273, 0.0539, 0.0365, 0.0404,\n",
            "         0.0279, 0.0355, 0.0234, 0.0440, 0.0290, 0.0357, 0.0363, 0.0237, 0.0319,\n",
            "         0.0430, 0.0328, 0.0425, 0.0349, 0.0251, 0.0322, 0.0325, 0.0370, 0.0469,\n",
            "         0.0298, 0.0299]], device='cuda:0', grad_fn=<SoftmaxBackward>)\n",
            "tensor([[0.0341, 0.0344, 0.0346, 0.0345, 0.0346, 0.0343, 0.0352, 0.0345, 0.0347,\n",
            "         0.0343, 0.0345, 0.0341, 0.0348, 0.0343, 0.0345, 0.0346, 0.0341, 0.0344,\n",
            "         0.0347, 0.0344, 0.0347, 0.0345, 0.0341, 0.0344, 0.0344, 0.0345, 0.0349,\n",
            "         0.0343, 0.0344],\n",
            "        [0.0341, 0.0344, 0.0347, 0.0345, 0.0346, 0.0342, 0.0352, 0.0346, 0.0347,\n",
            "         0.0343, 0.0345, 0.0341, 0.0348, 0.0343, 0.0345, 0.0345, 0.0341, 0.0344,\n",
            "         0.0348, 0.0344, 0.0348, 0.0345, 0.0342, 0.0344, 0.0344, 0.0346, 0.0349,\n",
            "         0.0343, 0.0343]], device='cuda:0', grad_fn=<SoftmaxBackward>)\n",
            "tensor([[6],\n",
            "        [6]], device='cuda:0')\n"
          ]
        },
        {
          "name": "stderr",
          "output_type": "stream",
          "text": [
            "<ipython-input-188-d6206bc42f33>:16: UserWarning: Implicit dimension choice for softmax has been deprecated. Change the call to include dim=X as an argument.\n",
            "  out = F.softmax(out)\n",
            "<ipython-input-188-d6206bc42f33>:18: UserWarning: Implicit dimension choice for softmax has been deprecated. Change the call to include dim=X as an argument.\n",
            "  out = F.softmax(out)\n"
          ]
        }
      ],
      "source": [
        "resnet_train_data = torchvision.datasets.DatasetFolder(RESNET_FEAUTURES_BASE_PATH + '/train', loader=torch.load, extensions=('.tensor'))\n",
        "train_loader = torch.utils.data.DataLoader(resnet_train_data, batch_size=2, shuffle=True)\n",
        "\n",
        "model = Classifier()\n",
        "model.cuda()\n",
        "\n",
        "# x = get_accuracy(model, resnet_train_data, 32)\n",
        "# print(x)\n",
        "x = iter(train_loader)\n",
        "img, label = next(x)\n",
        "\n",
        "out = model(img.cuda())\n",
        "pred = out.max(1, keepdim=True)[1]\n",
        "# print(label.dtype)\n",
        "print(out)\n",
        "out = F.softmax(out)\n",
        "print(out)\n",
        "out = F.softmax(out)\n",
        "print(out)\n",
        "\n",
        "print(pred)\n",
        "# print(convertLabel(label))\n",
        "# print(len(os.listdir(NEW_DATASET_PATH)), label)"
      ]
    }
  ],
  "metadata": {
    "accelerator": "GPU",
    "colab": {
      "collapsed_sections": [],
      "name": "APS360 - Project Proposal.ipynb",
      "provenance": [],
      "toc_visible": true
    },
    "kernelspec": {
      "display_name": "Python 3",
      "name": "python3"
    },
    "language_info": {
      "codemirror_mode": {
        "name": "ipython",
        "version": 3
      },
      "file_extension": ".py",
      "mimetype": "text/x-python",
      "name": "python",
      "nbconvert_exporter": "python",
      "pygments_lexer": "ipython3",
      "version": "3.8.8"
    }
  },
  "nbformat": 4,
  "nbformat_minor": 0
}
