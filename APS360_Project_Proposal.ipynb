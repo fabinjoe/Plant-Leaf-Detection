{
  "cells": [
    {
      "cell_type": "markdown",
      "metadata": {
        "id": "W_4SbOKdAhtq"
      },
      "source": [
        "#**Automated Plant Leaf Disease Detection (APLDD)**\n",
        "Project Group 25 Members:\n",
        "*   Fabin Joe: 1005889709\n",
        "*   Kshitij Bhardwaj:\n",
        "*   Rahul Chopra:\n",
        "*   Vishal Radhakrishnan:\n",
        "\n",
        "Neural Network to analyze images of a plant leaf to identify various common diseases. Our project is indented to be used in the **Agricultural Sector** to result in early detection of diseases."
      ]
    },
    {
      "cell_type": "markdown",
      "metadata": {
        "id": "XpRAUUgkFGHe"
      },
      "source": [
        "#Some Coding Guidelines so our code seems uniform\n",
        "Class Definaitions: class **HappyPerson**(): \n",
        "\n",
        "Function Definations: def **makePersonHappy**():\n",
        "\n",
        "Variable Definations: **measure_happiness** = 0\n"
      ]
    },
    {
      "cell_type": "code",
      "execution_count": 5,
      "metadata": {},
      "outputs": [],
      "source": [
        "# All the import stuff\n",
        "import numpy as np\n",
        "import matplotlib.pyplot as plt\n",
        "import time\n",
        "import torch\n",
        "import torch.nn as nn\n",
        "import torch.nn.functional as F\n",
        "import torch.optim as optim\n",
        "import torchvision\n",
        "from torch.utils.data.sampler import SubsetRandomSampler\n",
        "import torchvision.transforms as transforms\n",
        "import os\n",
        "import shutil\n",
        "import pandas as pd"
      ]
    },
    {
      "cell_type": "markdown",
      "metadata": {},
      "source": [
        "# Data Cleaning"
      ]
    },
    {
      "cell_type": "code",
      "execution_count": 1,
      "metadata": {},
      "outputs": [
        {
          "name": "stdout",
          "output_type": "stream",
          "text": [
            "2\n"
          ]
        }
      ],
      "source": [
        "# Function to Resize a given image\n",
        "# - Vishal"
      ]
    },
    {
      "cell_type": "code",
      "execution_count": 7,
      "metadata": {},
      "outputs": [],
      "source": [
        "# Function to organize imgs into directory\n",
        "# - Fabin\n",
        "def changeImgDirectory(old_directory, new_directory):\n",
        "    if not os.path.exists(new_directory):\n",
        "        os.mkdir( new_directory )\n",
        "\n",
        "    for sub_direcotry in os.listdir(old_directory):\n",
        "        shutil.move( old_directory + \"\\\\\" + sub_direcotry, new_directory )\n",
        "\n",
        "    print( f\"Copied Directory {old_directory} to {new_directory}\" )\n",
        "\n",
        "def unsqueezeImgDirectory(path, directory):\n",
        "    for sub_directory in os.listdir(path + \"\\\\\" + directory):\n",
        "        new_sub_directory = sub_directory.title()\n",
        "        new_sub_directory = sub_directory.replace( \" \", \"\" )\n",
        "        new_sub_directory = directory + \"_\" + new_sub_directory\n",
        "\n",
        "        new_directory = path + \"\\\\\" + new_sub_directory\n",
        "        shutil.move(path + \"\\\\\" + directory + \"\\\\\" + sub_directory, new_directory)\n",
        "        os.rmdir(path + \"\\\\\" + directory)\n",
        "    print( f\"Unsqueezed Directory {directory}\" )\n",
        "\n",
        "def createDirectoryFromCSV(path, directory, path_to_csv):\n",
        "    data = pd.read_excel(path_to_csv)\n",
        "\n",
        "    category_to_label = {}\n",
        "    for index in range(len(data)):\n",
        "        entry = data.iloc[index]\n",
        "\n",
        "        img_name = entry.iloc[0]\n",
        "        category = entry.iloc[1]\n",
        "\n",
        "        old_img_path = path + \"\\\\\" + directory + \"\\\\\" + img_name\n",
        "        \n",
        "        if category not in category_to_label:\n",
        "            label = category.replace(\"_\", \" \")\n",
        "            label = label.title()\n",
        "            label = label.replace(\" \", \"\")\n",
        "            \n",
        "            category_to_label[category] = label\n",
        "            new_img_path = path + \"\\\\\" + label\n",
        "\n",
        "            os.mkdir(new_img_path)\n",
        "        \n",
        "        new_img_path = path + \"\\\\\" + category_to_label[category] + \"\\\\\" + img_name\n",
        "\n",
        "        shutil.move( old_img_path, new_img_path )\n",
        "    print( \"Images segmented into directories\" )\n",
        "    pass"
      ]
    },
    {
      "cell_type": "code",
      "execution_count": 77,
      "metadata": {},
      "outputs": [
        {
          "name": "stdout",
          "output_type": "stream",
          "text": [
            "Copied Directory Citrus Plant Dataset\\Leaves to Dataset\\Citrus\n",
            "Copied Directory Coffee Plant Dataset\\Photos to Dataset\\Coffee\n",
            "Copied Directory Pear Dataset\\Leaves to Dataset\\Pear\n",
            "Copied Directory plantvillage dataset\\color to Dataset\n"
          ]
        }
      ],
      "source": [
        "os.mkdir(r\"Dataset\")\n",
        "changeImgDirectory(r\"Citrus Plant Dataset\\Leaves\", r\"Dataset\\Citrus\")\n",
        "changeImgDirectory(r\"Coffee Plant Dataset\\Photos\", r\"Dataset\\Coffee\")\n",
        "changeImgDirectory(r\"Pear Dataset\\Leaves\", r\"Dataset\\Pear\")\n",
        "changeImgDirectory(r\"plantvillage dataset\\color\", r\"Dataset\")"
      ]
    },
    {
      "cell_type": "code",
      "execution_count": 99,
      "metadata": {},
      "outputs": [
        {
          "name": "stdout",
          "output_type": "stream",
          "text": [
            "Unsqueezed Directory Citrus\n",
            "Unsqueezed Directory Pear\n"
          ]
        }
      ],
      "source": [
        "unsqueezeImgDirectory(r\"Dataset\", r\"Citrus\")\n",
        "unsqueezeImgDirectory(r\"Dataset\", r\"Pear\")"
      ]
    },
    {
      "cell_type": "code",
      "execution_count": 8,
      "metadata": {},
      "outputs": [
        {
          "name": "stdout",
          "output_type": "stream",
          "text": [
            "Images segmented into directories\n"
          ]
        }
      ],
      "source": [
        "PATH = r\"Dataset\"\n",
        "directory = r\"Coffee\"\n",
        "path_to_csv = r\"Coffee Plant Dataset\\Annotations\\RoCoLE-classes.xlsx\"\n",
        "createDirectoryFromCSV(PATH, directory, path_to_csv)"
      ]
    },
    {
      "cell_type": "code",
      "execution_count": 9,
      "metadata": {},
      "outputs": [
        {
          "name": "stdout",
          "output_type": "stream",
          "text": [
            "Hello\n"
          ]
        }
      ],
      "source": [
        "PATH = r\"Dataset\\Coffee\"\n",
        "\n",
        "print(\"Hello\")"
      ]
    },
    {
      "cell_type": "code",
      "execution_count": 21,
      "metadata": {},
      "outputs": [],
      "source": [
        "# Function to Create the csv file\n",
        "# - Fabin\n",
        "def generateCSV(dataset_path):\n",
        "\n",
        "    d = {'Image_Path': [], 'Label': [], 'Plant': [], 'Disease': [] }\n",
        "    data = pd.DataFrame(data=d)\n",
        "\n",
        "    for label in os.listdir(dataset_path):\n",
        "        label_path = dataset_path + \"\\\\\" + label\n",
        "        for img_name in os.listdir(label_path):\n",
        "            img_path = label_path + \"\\\\\" + img_name\n",
        "            data = data.append( {'Image_Path': img_path, 'Label': label, 'Plant': \"\", 'Disease': \"\" }, ignore_index = True )            \n",
        "        print( f\"Lable {label} is added to the CSV \" )\n",
        "    \n",
        "    dataset_csv_path = 'dataset_csv.csv'\n",
        "    data.to_csv(dataset_csv_path, index=False)\n",
        "    print( f\"CSV file is generated and stored at {dataset_csv_path}\" )\n",
        "\n",
        "    return dataset_csv_path\n",
        "\n"
      ]
    },
    {
      "cell_type": "code",
      "execution_count": 22,
      "metadata": {},
      "outputs": [
        {
          "name": "stdout",
          "output_type": "stream",
          "text": [
            "Lable Apple_AppleScab is added to the CSV \n"
          ]
        }
      ],
      "source": [
        "dataset_path = r\"Dataset\"\n",
        "dataset_csv_path = generateCSV(dataset_path)"
      ]
    },
    {
      "cell_type": "code",
      "execution_count": null,
      "metadata": {},
      "outputs": [],
      "source": [
        "# Function to relable and fill csv file\n",
        "# - Rahul"
      ]
    },
    {
      "cell_type": "code",
      "execution_count": null,
      "metadata": {},
      "outputs": [],
      "source": [
        "# Function to cause a train val test split\n",
        "# - Kshitij"
      ]
    },
    {
      "cell_type": "code",
      "execution_count": null,
      "metadata": {},
      "outputs": [],
      "source": [
        "# Function to segment images - optional maybe we can do this later."
      ]
    },
    {
      "cell_type": "markdown",
      "metadata": {},
      "source": [
        "# Baseline Model"
      ]
    },
    {
      "cell_type": "code",
      "execution_count": null,
      "metadata": {},
      "outputs": [],
      "source": []
    },
    {
      "cell_type": "markdown",
      "metadata": {},
      "source": [
        "# Neural Network"
      ]
    }
  ],
  "metadata": {
    "accelerator": "GPU",
    "colab": {
      "collapsed_sections": [],
      "name": "APS360 - Project Proposal.ipynb",
      "provenance": [],
      "toc_visible": true
    },
    "kernelspec": {
      "display_name": "Python 3",
      "name": "python3"
    },
    "language_info": {
      "codemirror_mode": {
        "name": "ipython",
        "version": 3
      },
      "file_extension": ".py",
      "mimetype": "text/x-python",
      "name": "python",
      "nbconvert_exporter": "python",
      "pygments_lexer": "ipython3",
      "version": "3.8.8"
    }
  },
  "nbformat": 4,
  "nbformat_minor": 0
}
