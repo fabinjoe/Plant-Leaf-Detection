{
  "cells": [
    {
      "cell_type": "markdown",
      "metadata": {
        "id": "W_4SbOKdAhtq"
      },
      "source": [
        "#**Automated Plant Leaf Disease Detection (APLDD)**\n",
        "Project Group 25 Members:\n",
        "*   Fabin Joe: 1005889709\n",
        "*   Kshitij Bhardwaj:\n",
        "*   Rahul Chopra:\n",
        "*   Vishal Radhakrishnan:\n",
        "\n",
        "Neural Network to analyze images of a plant leaf to identify various common diseases. Our project is indented to be used in the **Agricultural Sector** to result in early detection of diseases."
      ]
    },
    {
      "cell_type": "markdown",
      "metadata": {
        "id": "XpRAUUgkFGHe"
      },
      "source": [
        "#Some Coding Guidelines so our code seems uniform\n",
        "Class Definaitions: class **HappyPerson**(): \n",
        "\n",
        "Function Definations: def **makePersonHappy**():\n",
        "\n",
        "Variable Definations: **measure_happiness** = 0\n"
      ]
    },
    {
      "cell_type": "markdown",
      "metadata": {},
      "source": [
        "# Data Cleaning"
      ]
    },
    {
      "cell_type": "code",
      "execution_count": 1,
      "metadata": {},
      "outputs": [
        {
          "name": "stdout",
          "output_type": "stream",
          "text": [
            "2\n"
          ]
        }
      ],
      "source": [
        "# Function to Resize a given image\n",
        "# - Vishal"
      ]
    },
    {
      "cell_type": "code",
      "execution_count": null,
      "metadata": {},
      "outputs": [],
      "source": [
        "# Function to organize imags into directory\n",
        "# - Fabin"
      ]
    },
    {
      "cell_type": "code",
      "execution_count": null,
      "metadata": {},
      "outputs": [],
      "source": [
        "# Function to Create the csv file\n",
        "# - Fabin"
      ]
    },
    {
      "cell_type": "code",
      "execution_count": null,
      "metadata": {},
      "outputs": [],
      "source": [
        "# Function to relable and fill csv file\n",
        "# - Rahul"
      ]
    },
    {
      "cell_type": "code",
      "execution_count": null,
      "metadata": {},
      "outputs": [],
      "source": [
        "# Function to cause a train val test split\n",
        "# - Kshitij"
      ]
    },
    {
      "cell_type": "code",
      "execution_count": null,
      "metadata": {},
      "outputs": [],
      "source": [
        "# Function to segment images - optional maybe we can do this later."
      ]
    },
    {
      "cell_type": "markdown",
      "metadata": {},
      "source": [
        "# Baseline Model"
      ]
    },
    {
      "cell_type": "code",
      "execution_count": null,
      "metadata": {},
      "outputs": [],
      "source": []
    },
    {
      "cell_type": "markdown",
      "metadata": {},
      "source": [
        "# Neural Network"
      ]
    }
  ],
  "metadata": {
    "accelerator": "GPU",
    "colab": {
      "collapsed_sections": [],
      "name": "APS360 - Project Proposal.ipynb",
      "provenance": [],
      "toc_visible": true
    },
    "kernelspec": {
      "display_name": "Python 3",
      "name": "python3"
    },
    "language_info": {
      "codemirror_mode": {
        "name": "ipython",
        "version": 3
      },
      "file_extension": ".py",
      "mimetype": "text/x-python",
      "name": "python",
      "nbconvert_exporter": "python",
      "pygments_lexer": "ipython3",
      "version": "3.8.8"
    }
  },
  "nbformat": 4,
  "nbformat_minor": 0
}
