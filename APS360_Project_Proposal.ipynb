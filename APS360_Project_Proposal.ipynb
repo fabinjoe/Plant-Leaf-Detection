{
  "cells": [
    {
      "cell_type": "markdown",
      "metadata": {
        "id": "W_4SbOKdAhtq"
      },
      "source": [
        "#**Automated Plant Leaf Disease Detection (APLDD)**\n",
        "Project Group 25 Members:\n",
        "*   Fabin Joe: 1005889709\n",
        "*   Kshitij Bhardwaj:\n",
        "*   Rahul Chopra:\n",
        "*   Vishal Radhakrishnan:\n",
        "\n",
        "Neural Network to analyze images of a plant leaf to identify various common diseases. Our project is indented to be used in the **Agricultural Sector** to result in early detection of diseases."
      ]
    },
    {
      "cell_type": "markdown",
      "metadata": {
        "id": "XpRAUUgkFGHe"
      },
      "source": [
        "#Some Coding Guidelines so our code seems uniform\n",
        "Class Definaitions: class **HappyPerson**(): \n",
        "\n",
        "Function Definations: def **makePersonHappy**():\n",
        "\n",
        "Variable Definations: **measure_happiness** = 0\n"
      ]
    },
    {
      "cell_type": "code",
      "execution_count": 5,
      "metadata": {},
      "outputs": [],
      "source": [
        "# All the import stuff\n",
        "import numpy as np\n",
        "import matplotlib.pyplot as plt\n",
        "import time\n",
        "import torch\n",
        "import torch.nn as nn\n",
        "import torch.nn.functional as F\n",
        "import torch.optim as optim\n",
        "import torchvision\n",
        "from torch.utils.data.sampler import SubsetRandomSampler\n",
        "import torchvision.transforms as transforms\n",
        "import os\n",
        "import shutil\n",
        "import pandas as pd"
      ]
    },
    {
      "cell_type": "markdown",
      "metadata": {},
      "source": [
        "# Data Cleaning"
      ]
    },
    {
      "cell_type": "code",
      "execution_count": 1,
      "metadata": {},
      "outputs": [
        {
          "name": "stdout",
          "output_type": "stream",
          "text": [
            "2\n"
          ]
        }
      ],
      "source": [
        "# Function to Resize a given image\n",
        "# - Vishal"
      ]
    },
    {
      "cell_type": "code",
      "execution_count": 7,
      "metadata": {},
      "outputs": [],
      "source": [
        "# Function to organize imgs into directory\n",
        "# - Fabin\n",
        "def changeImgDirectory(old_directory, new_directory):\n",
        "    if not os.path.exists(new_directory):\n",
        "        os.mkdir( new_directory )\n",
        "\n",
        "    for sub_direcotry in os.listdir(old_directory):\n",
        "        shutil.move( old_directory + \"\\\\\" + sub_direcotry, new_directory )\n",
        "\n",
        "    print( f\"Copied Directory {old_directory} to {new_directory}\" )\n",
        "\n",
        "def unsqueezeImgDirectory(path, directory):\n",
        "    for sub_directory in os.listdir(path + \"\\\\\" + directory):\n",
        "        new_sub_directory = sub_directory.title()\n",
        "        new_sub_directory = sub_directory.replace( \" \", \"\" )\n",
        "        new_sub_directory = directory + \"_\" + new_sub_directory\n",
        "\n",
        "        new_directory = path + \"\\\\\" + new_sub_directory\n",
        "        shutil.move(path + \"\\\\\" + directory + \"\\\\\" + sub_directory, new_directory)\n",
        "        os.rmdir(path + \"\\\\\" + directory)\n",
        "    print( f\"Unsqueezed Directory {directory}\" )\n",
        "\n",
        "def createDirectoryFromCSV(path, directory, path_to_csv):\n",
        "    data = pd.read_excel(path_to_csv)\n",
        "\n",
        "    category_to_label = {}\n",
        "    for index in range(len(data)):\n",
        "        entry = data.iloc[index]\n",
        "\n",
        "        img_name = entry.iloc[0]\n",
        "        category = entry.iloc[1]\n",
        "\n",
        "        old_img_path = path + \"\\\\\" + directory + \"\\\\\" + img_name\n",
        "        \n",
        "        if category not in category_to_label:\n",
        "            label = category.replace(\"_\", \" \")\n",
        "            label = label.title()\n",
        "            label = label.replace(\" \", \"\")\n",
        "            \n",
        "            category_to_label[category] = label\n",
        "            new_img_path = path + \"\\\\\" + label\n",
        "\n",
        "            os.mkdir(new_img_path)\n",
        "        \n",
        "        new_img_path = path + \"\\\\\" + category_to_label[category] + \"\\\\\" + img_name\n",
        "\n",
        "        shutil.move( old_img_path, new_img_path )\n",
        "    print( \"Images segmented into directories\" )\n",
        "    pass"
      ]
    },
    {
      "cell_type": "code",
      "execution_count": 77,
      "metadata": {},
      "outputs": [
        {
          "name": "stdout",
          "output_type": "stream",
          "text": [
            "Copied Directory Citrus Plant Dataset\\Leaves to Dataset\\Citrus\n",
            "Copied Directory Coffee Plant Dataset\\Photos to Dataset\\Coffee\n",
            "Copied Directory Pear Dataset\\Leaves to Dataset\\Pear\n",
            "Copied Directory plantvillage dataset\\color to Dataset\n"
          ]
        }
      ],
      "source": [
        "os.mkdir(r\"Dataset\")\n",
        "changeImgDirectory(r\"Citrus Plant Dataset\\Leaves\", r\"Dataset\\Citrus\")\n",
        "changeImgDirectory(r\"Coffee Plant Dataset\\Photos\", r\"Dataset\\Coffee\")\n",
        "changeImgDirectory(r\"Pear Dataset\\Leaves\", r\"Dataset\\Pear\")\n",
        "changeImgDirectory(r\"plantvillage dataset\\color\", r\"Dataset\")"
      ]
    },
    {
      "cell_type": "code",
      "execution_count": 99,
      "metadata": {},
      "outputs": [
        {
          "name": "stdout",
          "output_type": "stream",
          "text": [
            "Unsqueezed Directory Citrus\n",
            "Unsqueezed Directory Pear\n"
          ]
        }
      ],
      "source": [
        "unsqueezeImgDirectory(r\"Dataset\", r\"Citrus\")\n",
        "unsqueezeImgDirectory(r\"Dataset\", r\"Pear\")"
      ]
    },
    {
      "cell_type": "code",
      "execution_count": 8,
      "metadata": {},
      "outputs": [
        {
          "name": "stdout",
          "output_type": "stream",
          "text": [
            "Images segmented into directories\n"
          ]
        }
      ],
      "source": [
        "PATH = r\"Dataset\"\n",
        "directory = r\"Coffee\"\n",
        "path_to_csv = r\"Coffee Plant Dataset\\Annotations\\RoCoLE-classes.xlsx\"\n",
        "createDirectoryFromCSV(PATH, directory, path_to_csv)"
      ]
    },
    {
      "cell_type": "code",
      "execution_count": 9,
      "metadata": {},
      "outputs": [
        {
          "name": "stdout",
          "output_type": "stream",
          "text": [
            "Hello\n"
          ]
        }
      ],
      "source": [
        "PATH = r\"Dataset\\Coffee\"\n",
        "\n",
        "print(\"Hello\")"
      ]
    },
    {
      "cell_type": "code",
      "execution_count": 24,
      "metadata": {},
      "outputs": [],
      "source": [
        "# Function to Create the csv file\n",
        "# - Fabin\n",
        "def generateCSV(dataset_path):\n",
        "\n",
        "    d = {'Image_Path': [], 'Label': [], 'Plant': [], 'Disease': [] }\n",
        "    data = pd.DataFrame(data=d)\n",
        "\n",
        "    for label in os.listdir(dataset_path):\n",
        "        label_path = dataset_path + \"\\\\\" + label\n",
        "        for img_name in os.listdir(label_path):\n",
        "            img_path = label_path + \"\\\\\" + img_name\n",
        "            data = data.append( {'Image_Path': img_path, 'Label': label, 'Plant': \"\", 'Disease': \"\" }, ignore_index = True )            \n",
        "        print( f\"Label {label} is added to the CSV \" )\n",
        "    \n",
        "    dataset_csv_path = 'dataset_csv.csv'\n",
        "    data.to_csv(dataset_csv_path, index=False)\n",
        "    print( f\"CSV file is generated and stored at {dataset_csv_path}\" )\n",
        "\n",
        "    return dataset_csv_path"
      ]
    },
    {
      "cell_type": "code",
      "execution_count": 25,
      "metadata": {},
      "outputs": [
        {
          "name": "stdout",
          "output_type": "stream",
          "text": [
            "Label Apple_AppleScab is added to the CSV \n",
            "Label Apple_BlackRot is added to the CSV \n",
            "Label Apple_CedarAppleRust is added to the CSV \n",
            "Label Apple_Healthy is added to the CSV \n",
            "Label Blueberry_Healthy is added to the CSV \n",
            "Label Cherry_Healthy is added to the CSV \n",
            "Label Cherry_PowderyMildew is added to the CSV \n",
            "Label Citrus_BlackSpot is added to the CSV \n",
            "Label Citrus_Canker is added to the CSV \n",
            "Label Citrus_Greening is added to the CSV \n",
            "Label Citrus_Healthy is added to the CSV \n",
            "Label Citrus_Melanose is added to the CSV \n",
            "Label Coffee_Healthy is added to the CSV \n",
            "Label Coffee_RedSpiderMite is added to the CSV \n",
            "Label Coffee_RustLevel1 is added to the CSV \n",
            "Label Coffee_RustLevel2 is added to the CSV \n",
            "Label Coffee_RustLevel3 is added to the CSV \n",
            "Label Coffee_RustLevel4 is added to the CSV \n",
            "Label Corn_CercosporaLeafSpot is added to the CSV \n",
            "Label Corn_CommonRust is added to the CSV \n",
            "Label Corn_Healthy is added to the CSV \n",
            "Label Corn_NorthernLeafBlight is added to the CSV \n",
            "Label Grape_BlackRot is added to the CSV \n",
            "Label Grape_Esca is added to the CSV \n",
            "Label Grape_Healthy is added to the CSV \n",
            "Label Grape_LeafBlight is added to the CSV \n",
            "Label Orange_Haunglongbing is added to the CSV \n",
            "Label Peach_BacterialSpot is added to the CSV \n",
            "Label Peach_Healthy is added to the CSV \n",
            "Label Pear_Curl is added to the CSV \n",
            "Label Pear_Healthy is added to the CSV \n",
            "Label Pear_Slug is added to the CSV \n",
            "Label Pear_Spot is added to the CSV \n",
            "Label PepperBell_BacterialSpot is added to the CSV \n",
            "Label PepperBell_Healthy is added to the CSV \n",
            "Label Potato_EarlyBlight is added to the CSV \n",
            "Label Potato_Healthy is added to the CSV \n",
            "Label Potato_LateBlight is added to the CSV \n",
            "Label Raspberry_Healthy is added to the CSV \n",
            "Label Soybean_Healthy is added to the CSV \n",
            "Label Squash_PowderyMildew is added to the CSV \n",
            "Label Strawberry_Healthy is added to the CSV \n",
            "Label Strawberry_LeafScorch is added to the CSV \n",
            "Label Tomato_BacterialSpot is added to the CSV \n",
            "Label Tomato_EarlyBlight is added to the CSV \n",
            "Label Tomato_Healthy is added to the CSV \n",
            "Label Tomato_LateBlight is added to the CSV \n",
            "Label Tomato_LeafMold is added to the CSV \n",
            "Label Tomato_SeptoriaLeafSpot is added to the CSV \n",
            "Label Tomato_SpiderMites is added to the CSV \n",
            "Label Tomato_TargetSpot is added to the CSV \n",
            "Label Tomato_TomatoMosaicVirus is added to the CSV \n",
            "Label Tomato_TomatoYellowLeafCurlVirus is added to the CSV \n",
            "CSV file is generated and stored at dataset_csv.csv\n"
          ]
        }
      ],
      "source": [
        "dataset_path = r\"Dataset\"\n",
        "dataset_csv_path = generateCSV(dataset_path)"
      ]
    },
    {
      "cell_type": "code",
      "execution_count": 28,
      "metadata": {},
      "outputs": [
        {
          "name": "stdout",
          "output_type": "stream",
          "text": [
            " Apple_AppleScab : 630\n",
            " Apple_BlackRot : 621\n",
            " Apple_CedarAppleRust : 275\n",
            " Apple_Healthy : 1645\n",
            " Blueberry_Healthy : 1502\n",
            " Cherry_Healthy : 854\n",
            " Cherry_PowderyMildew : 1052\n",
            " Citrus_BlackSpot : 171\n",
            " Citrus_Canker : 163\n",
            " Citrus_Greening : 204\n",
            " Citrus_Healthy : 58\n",
            " Citrus_Melanose : 13\n",
            " Coffee_Healthy : 791\n",
            " Coffee_RedSpiderMite : 167\n",
            " Coffee_RustLevel1 : 344\n",
            " Coffee_RustLevel2 : 166\n",
            " Coffee_RustLevel3 : 62\n",
            " Coffee_RustLevel4 : 30\n",
            " Corn_CercosporaLeafSpot : 513\n",
            " Corn_CommonRust : 1192\n",
            " Corn_Healthy : 1162\n",
            " Corn_NorthernLeafBlight : 985\n",
            " Grape_BlackRot : 1180\n",
            " Grape_Esca : 1383\n",
            " Grape_Healthy : 423\n",
            " Grape_LeafBlight : 1076\n",
            " Orange_Haunglongbing : 5507\n",
            " Peach_BacterialSpot : 2297\n",
            " Peach_Healthy : 360\n",
            " Pear_Curl : 65\n",
            " Pear_Healthy : 43\n",
            " Pear_Slug : 4050\n",
            " Pear_Spot : 1768\n",
            " PepperBell_BacterialSpot : 997\n",
            " PepperBell_Healthy : 1478\n",
            " Potato_EarlyBlight : 1000\n",
            " Potato_Healthy : 152\n",
            " Potato_LateBlight : 1000\n",
            " Raspberry_Healthy : 371\n",
            " Soybean_Healthy : 5090\n",
            " Squash_PowderyMildew : 1835\n",
            " Strawberry_Healthy : 456\n",
            " Strawberry_LeafScorch : 1109\n",
            " Tomato_BacterialSpot : 2127\n",
            " Tomato_EarlyBlight : 1000\n",
            " Tomato_Healthy : 1591\n",
            " Tomato_LateBlight : 1909\n",
            " Tomato_LeafMold : 952\n",
            " Tomato_SeptoriaLeafSpot : 1771\n",
            " Tomato_SpiderMites : 1676\n",
            " Tomato_TargetSpot : 1404\n",
            " Tomato_TomatoMosaicVirus : 373\n",
            " Tomato_TomatoYellowLeafCurlVirus : 5357\n",
            "62400\n"
          ]
        }
      ],
      "source": [
        "total = 0\n",
        "for label in os.listdir(\"Dataset\"):\n",
        "    path = \"Dataset\\\\\" + label\n",
        "    length = len(os.listdir(path))\n",
        "    print( f\" {label} : {length}\" )\n",
        "    total += length\n",
        "print(total)\n",
        "\n"
      ]
    },
    {
      "cell_type": "code",
      "execution_count": null,
      "metadata": {},
      "outputs": [],
      "source": [
        "# Function to relable and fill csv file\n",
        "# - Rahul"
      ]
    },
    {
      "cell_type": "code",
      "execution_count": null,
      "metadata": {},
      "outputs": [],
      "source": [
        "# Function to cause a train val test split\n",
        "# - Kshitij"
      ]
    },
    {
      "cell_type": "code",
      "execution_count": null,
      "metadata": {},
      "outputs": [],
      "source": [
        "# Function to segment images - optional maybe we can do this later."
      ]
    },
    {
      "cell_type": "markdown",
      "metadata": {},
      "source": [
        "# Baseline Model"
      ]
    },
    {
      "cell_type": "code",
      "execution_count": null,
      "metadata": {},
      "outputs": [],
      "source": []
    },
    {
      "cell_type": "markdown",
      "metadata": {},
      "source": [
        "# Neural Network"
      ]
    }
  ],
  "metadata": {
    "accelerator": "GPU",
    "colab": {
      "collapsed_sections": [],
      "name": "APS360 - Project Proposal.ipynb",
      "provenance": [],
      "toc_visible": true
    },
    "kernelspec": {
      "display_name": "Python 3",
      "name": "python3"
    },
    "language_info": {
      "codemirror_mode": {
        "name": "ipython",
        "version": 3
      },
      "file_extension": ".py",
      "mimetype": "text/x-python",
      "name": "python",
      "nbconvert_exporter": "python",
      "pygments_lexer": "ipython3",
      "version": "3.8.8"
    }
  },
  "nbformat": 4,
  "nbformat_minor": 0
}
